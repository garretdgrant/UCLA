{
 "cells": [
  {
   "cell_type": "markdown",
   "metadata": {},
   "source": [
    "# Project Activity: More Penguins!\n",
    "\n",
    "This Discussion activity is a component of your [group mini-project](https://philchodrow.github.io/PIC16A/project/). While the usual Discussion expectations apply with regards to your participation grade (i.e. if you work for the full 50 minutes, you will get full credit), it is recommended for the purposes of your final project that you coordinate with your group to eventually complete all parts of this assignment. \n",
    "\n",
    "## Group Roles\n",
    "\n",
    "The roles for this Discussion activity are slightly modified. The Driver and Proposer are the same as usual. Instead of a Reviewer, use an **Interpreter**. The job of the Interpreter is to think about the significance of each of the code outputs in the context of the long-term project goal (classifying penguin species). In parts of the Discussion where the problems ask you to explain or interpret your findings, the Interpreter should suggest responses to the Proposer and Driver. The **Interpreter** may also give code feedback when the group is writing functions. \n",
    "\n",
    "### List Names and Group Roles Here: \n",
    "\n",
    "- Partner 1 (Role)\n",
    "- Partner 2 (Role)\n",
    "- Partner 3 (Role)\n",
    "\n",
    "\n",
    "## Part A\n",
    "\n",
    "Run the following cell to load the penguin dataset as a `pandas` `DataFrame` called `penguins`. I've also supplied code to shorten the penguins species name for convenient exploration and plotting. \n",
    "\n",
    "*If you experience `ConnectionRefused` errors when doing this, instead copy/paste the url into your browser. Save the data in the same directory as this notebook in a file called `penguins.csv`, and then replace `url` with `\"penguins.csv\"` in the block below.* \n",
    "\n",
    "While working with this dataset, you may notice some blank or nonsensical values.  Normally, for a project such as this, we would want to remove these values before we continue.  However, in this worksheet you can just ignore them."
   ]
  },
  {
   "cell_type": "code",
   "execution_count": 1,
   "metadata": {},
   "outputs": [],
   "source": [
    "import pandas as pd\n",
    "import numpy as np\n",
    "import urllib\n",
    "from matplotlib import pyplot as plt\n",
    "\n",
    "url = \"https://philchodrow.github.io/PIC16A/datasets/palmer_penguins.csv\"\n",
    "penguins = pd.read_csv(url)\n",
    "\n",
    "# shorten the species name\n",
    "penguins[\"Species\"] = penguins[\"Species\"].str.split().str.get(0)"
   ]
  },
  {
   "cell_type": "code",
   "execution_count": 2,
   "metadata": {},
   "outputs": [
    {
     "data": {
      "text/html": [
       "<div>\n",
       "<style scoped>\n",
       "    .dataframe tbody tr th:only-of-type {\n",
       "        vertical-align: middle;\n",
       "    }\n",
       "\n",
       "    .dataframe tbody tr th {\n",
       "        vertical-align: top;\n",
       "    }\n",
       "\n",
       "    .dataframe thead th {\n",
       "        text-align: right;\n",
       "    }\n",
       "</style>\n",
       "<table border=\"1\" class=\"dataframe\">\n",
       "  <thead>\n",
       "    <tr style=\"text-align: right;\">\n",
       "      <th></th>\n",
       "      <th>studyName</th>\n",
       "      <th>Sample Number</th>\n",
       "      <th>Species</th>\n",
       "      <th>Region</th>\n",
       "      <th>Island</th>\n",
       "      <th>Stage</th>\n",
       "      <th>Individual ID</th>\n",
       "      <th>Clutch Completion</th>\n",
       "      <th>Date Egg</th>\n",
       "      <th>Culmen Length (mm)</th>\n",
       "      <th>Culmen Depth (mm)</th>\n",
       "      <th>Flipper Length (mm)</th>\n",
       "      <th>Body Mass (g)</th>\n",
       "      <th>Sex</th>\n",
       "      <th>Delta 15 N (o/oo)</th>\n",
       "      <th>Delta 13 C (o/oo)</th>\n",
       "      <th>Comments</th>\n",
       "    </tr>\n",
       "  </thead>\n",
       "  <tbody>\n",
       "    <tr>\n",
       "      <th>0</th>\n",
       "      <td>PAL0708</td>\n",
       "      <td>1</td>\n",
       "      <td>Adelie</td>\n",
       "      <td>Anvers</td>\n",
       "      <td>Torgersen</td>\n",
       "      <td>Adult, 1 Egg Stage</td>\n",
       "      <td>N1A1</td>\n",
       "      <td>Yes</td>\n",
       "      <td>11/11/07</td>\n",
       "      <td>39.1</td>\n",
       "      <td>18.7</td>\n",
       "      <td>181.0</td>\n",
       "      <td>3750.0</td>\n",
       "      <td>MALE</td>\n",
       "      <td>NaN</td>\n",
       "      <td>NaN</td>\n",
       "      <td>Not enough blood for isotopes.</td>\n",
       "    </tr>\n",
       "    <tr>\n",
       "      <th>1</th>\n",
       "      <td>PAL0708</td>\n",
       "      <td>2</td>\n",
       "      <td>Adelie</td>\n",
       "      <td>Anvers</td>\n",
       "      <td>Torgersen</td>\n",
       "      <td>Adult, 1 Egg Stage</td>\n",
       "      <td>N1A2</td>\n",
       "      <td>Yes</td>\n",
       "      <td>11/11/07</td>\n",
       "      <td>39.5</td>\n",
       "      <td>17.4</td>\n",
       "      <td>186.0</td>\n",
       "      <td>3800.0</td>\n",
       "      <td>FEMALE</td>\n",
       "      <td>8.94956</td>\n",
       "      <td>-24.69454</td>\n",
       "      <td>NaN</td>\n",
       "    </tr>\n",
       "    <tr>\n",
       "      <th>2</th>\n",
       "      <td>PAL0708</td>\n",
       "      <td>3</td>\n",
       "      <td>Adelie</td>\n",
       "      <td>Anvers</td>\n",
       "      <td>Torgersen</td>\n",
       "      <td>Adult, 1 Egg Stage</td>\n",
       "      <td>N2A1</td>\n",
       "      <td>Yes</td>\n",
       "      <td>11/16/07</td>\n",
       "      <td>40.3</td>\n",
       "      <td>18.0</td>\n",
       "      <td>195.0</td>\n",
       "      <td>3250.0</td>\n",
       "      <td>FEMALE</td>\n",
       "      <td>8.36821</td>\n",
       "      <td>-25.33302</td>\n",
       "      <td>NaN</td>\n",
       "    </tr>\n",
       "    <tr>\n",
       "      <th>3</th>\n",
       "      <td>PAL0708</td>\n",
       "      <td>4</td>\n",
       "      <td>Adelie</td>\n",
       "      <td>Anvers</td>\n",
       "      <td>Torgersen</td>\n",
       "      <td>Adult, 1 Egg Stage</td>\n",
       "      <td>N2A2</td>\n",
       "      <td>Yes</td>\n",
       "      <td>11/16/07</td>\n",
       "      <td>NaN</td>\n",
       "      <td>NaN</td>\n",
       "      <td>NaN</td>\n",
       "      <td>NaN</td>\n",
       "      <td>NaN</td>\n",
       "      <td>NaN</td>\n",
       "      <td>NaN</td>\n",
       "      <td>Adult not sampled.</td>\n",
       "    </tr>\n",
       "    <tr>\n",
       "      <th>4</th>\n",
       "      <td>PAL0708</td>\n",
       "      <td>5</td>\n",
       "      <td>Adelie</td>\n",
       "      <td>Anvers</td>\n",
       "      <td>Torgersen</td>\n",
       "      <td>Adult, 1 Egg Stage</td>\n",
       "      <td>N3A1</td>\n",
       "      <td>Yes</td>\n",
       "      <td>11/16/07</td>\n",
       "      <td>36.7</td>\n",
       "      <td>19.3</td>\n",
       "      <td>193.0</td>\n",
       "      <td>3450.0</td>\n",
       "      <td>FEMALE</td>\n",
       "      <td>8.76651</td>\n",
       "      <td>-25.32426</td>\n",
       "      <td>NaN</td>\n",
       "    </tr>\n",
       "  </tbody>\n",
       "</table>\n",
       "</div>"
      ],
      "text/plain": [
       "  studyName  Sample Number Species  Region     Island               Stage  \\\n",
       "0   PAL0708              1  Adelie  Anvers  Torgersen  Adult, 1 Egg Stage   \n",
       "1   PAL0708              2  Adelie  Anvers  Torgersen  Adult, 1 Egg Stage   \n",
       "2   PAL0708              3  Adelie  Anvers  Torgersen  Adult, 1 Egg Stage   \n",
       "3   PAL0708              4  Adelie  Anvers  Torgersen  Adult, 1 Egg Stage   \n",
       "4   PAL0708              5  Adelie  Anvers  Torgersen  Adult, 1 Egg Stage   \n",
       "\n",
       "  Individual ID Clutch Completion  Date Egg  Culmen Length (mm)  \\\n",
       "0          N1A1               Yes  11/11/07                39.1   \n",
       "1          N1A2               Yes  11/11/07                39.5   \n",
       "2          N2A1               Yes  11/16/07                40.3   \n",
       "3          N2A2               Yes  11/16/07                 NaN   \n",
       "4          N3A1               Yes  11/16/07                36.7   \n",
       "\n",
       "   Culmen Depth (mm)  Flipper Length (mm)  Body Mass (g)     Sex  \\\n",
       "0               18.7                181.0         3750.0    MALE   \n",
       "1               17.4                186.0         3800.0  FEMALE   \n",
       "2               18.0                195.0         3250.0  FEMALE   \n",
       "3                NaN                  NaN            NaN     NaN   \n",
       "4               19.3                193.0         3450.0  FEMALE   \n",
       "\n",
       "   Delta 15 N (o/oo)  Delta 13 C (o/oo)                        Comments  \n",
       "0                NaN                NaN  Not enough blood for isotopes.  \n",
       "1            8.94956          -24.69454                             NaN  \n",
       "2            8.36821          -25.33302                             NaN  \n",
       "3                NaN                NaN              Adult not sampled.  \n",
       "4            8.76651          -25.32426                             NaN  "
      ]
     },
     "execution_count": 2,
     "metadata": {},
     "output_type": "execute_result"
    }
   ],
   "source": [
    "# optional code here if you need to refresh your memory of the data set\n",
    "penguins.head()"
   ]
  },
  {
   "cell_type": "markdown",
   "metadata": {},
   "source": [
    "## Part B\n",
    "\n",
    "Write a function called `penguin_summary_table` which accepts two arguments, `group_cols` and `value_cols`. This function should create a table in which the mean of each element of `value_cols` is shown, grouped according to the specified `group_cols`. For example, the call \n",
    "\n",
    "```python\n",
    "penguin_summary_table([\"Species\"], [\"Culmen Length (mm)\", \"Culmen Depth (mm)\"])\n",
    "```\n",
    "\n",
    "should produce a summary table with the mean culmen length and depth per species. \n",
    "\n",
    "For a more pleasant display, **round the numbers in your table to 2 decimal places**. This can be done using the code `my_data_frame.round(2)`. \n",
    "\n",
    "This function can be implemented in just a few lines. Comments and docstrings are not necessary. "
   ]
  },
  {
   "cell_type": "code",
   "execution_count": null,
   "metadata": {},
   "outputs": [],
   "source": [
    "# your solution here\n",
    "def penguin_summary_table(group_cols, value_cols):\n",
    "    pass"
   ]
  },
  {
   "cell_type": "markdown",
   "metadata": {},
   "source": [
    "## Part  C\n",
    "\n",
    "Use your function to explore the data a bit. Focus on the physiological variables:\n",
    "\n",
    "- `Culmen Length (mm)`\n",
    "- `Culmen Depth (mm)`\n",
    "- `Flipper Length (mm)`\n",
    "- `Body Mass (g)`\n",
    "- `Delta 15 N (o/oo)`\n",
    "- `Delta 13 C (o/oo)`\n",
    "\n",
    "These last two variables are measures of nitrogen and carbon isotopes in the penguin's bloodstreams. \n",
    "\n",
    "**Create at least three readable summary tables.** Then, work with your **Interpreter** to explain the significance of each table. Do observe any important differences between the penguin species?\n",
    "\n",
    "Make sure that each table has a message, and that no information is shown that is not part of that message. Is there a part of the table that you have nothing to say about? Remove it! \n",
    "\n",
    "\n",
    "- **Hint**: \"This table suggests that there's not much of a difference between...\" is a fine explanation of the table, as long as it's warranted. \n",
    "- **Hint**: consider the sex of the penguins as well as the species. It's also a good idea to try breaking out categories by island! \n",
    "    - There is a single penguin whose sex was not collected by the researchers and encoded as `.`. This should not cause major problems, but feel free to remove this row if you'd like to. \n",
    "- **Hint**: A good thing to try is just to count the number of penguins by species on each island. "
   ]
  },
  {
   "cell_type": "code",
   "execution_count": null,
   "metadata": {},
   "outputs": [],
   "source": [
    "# Table 1\n"
   ]
  },
  {
   "cell_type": "markdown",
   "metadata": {},
   "source": [
    "#### Discussion of Table 1"
   ]
  },
  {
   "cell_type": "code",
   "execution_count": null,
   "metadata": {},
   "outputs": [],
   "source": [
    "# Table 2\n"
   ]
  },
  {
   "cell_type": "markdown",
   "metadata": {},
   "source": [
    "#### Discussion of Table 2"
   ]
  },
  {
   "cell_type": "code",
   "execution_count": null,
   "metadata": {},
   "outputs": [],
   "source": [
    "# Table 3\n"
   ]
  },
  {
   "cell_type": "markdown",
   "metadata": {},
   "source": [
    "#### Discussion of Table 3"
   ]
  },
  {
   "cell_type": "markdown",
   "metadata": {},
   "source": [
    "## Part D\n",
    "\n",
    "Based on your findings from these tables, propose a miniature decision tree to help distinguish between the penguin species. Your decision tree might have rules like the following: \n",
    "\n",
    "1. First, check the island on which the penguin was found. \n",
    "    1. If Torgersen, then check the body mass. \n",
    "        1. If the body mass is over 4,000g, then guess Adelie. \n",
    "        1. Otherwise, guess Chinstrap\n",
    "    1. If Biscoe, then check the sex of the penguin. \n",
    "        1. If female, guess Gentoo\n",
    "        1. Otherwise, guess Chinstrap\n",
    "    1. If Dream, then guess Adelie.     \n",
    "      \n",
    "Your decision tree should operate using no more than three columns from the data. \n",
    "\n",
    "Below your decision tree, write an explanation of how you came up with it and how the tables that you created above informed your choices. \n",
    "\n",
    "If you like, you may skip ahead to Part E and write your decision tree directly as a Python function. You should then explain your reasoning as a docstring in the function rather than typing it here.  "
   ]
  },
  {
   "cell_type": "markdown",
   "metadata": {},
   "source": [
    "## Part E \n",
    "\n",
    "Write a function called `decision_tree` that implements your decision tree. It should accept as input single values of the relevant variables, and then return as output the guessed species of a penguin. Here's an example for the decision tree above: \n",
    "\n",
    "```python\n",
    "def decision_tree(island, mass, sex):\n",
    "    if island == \"Torgersen\":\n",
    "        if mass > 4000:\n",
    "            return \"Adelie\"\n",
    "        else:\n",
    "            return \"Chinstrap\"\n",
    "    elif island == \"Biscoe\":\n",
    "        if sex == \"FEMALE\":\n",
    "            return \"Gentoo\"\n",
    "        else:\n",
    "            return \"Chinstrap\"\n",
    "    else: \n",
    "        return \"Adelie\"\n",
    "    \n",
    "decision_tree(\"Biscoe\", 5000, \"MALE\")\n",
    "```\n",
    "```\n",
    "'Chinstrap'\n",
    "```\n",
    "\n",
    "Comments and docstrings are not necessary in this case, unless you skipped Part D. "
   ]
  },
  {
   "cell_type": "code",
   "execution_count": null,
   "metadata": {},
   "outputs": [],
   "source": [
    "# your decision tree function here\n",
    "\n"
   ]
  },
  {
   "cell_type": "markdown",
   "metadata": {},
   "source": [
    "## Part F\n",
    "\n",
    "The following code will generate a guess for each penguin using the `decision_tree` function shown above. Modify the line that defines the `guesser` function according to the variables required by your decision tree. Then, run the code to create a new column called `Guess` containing the species guess for each penguin. "
   ]
  },
  {
   "cell_type": "code",
   "execution_count": null,
   "metadata": {},
   "outputs": [],
   "source": [
    "# modify the first line, then run\n",
    "guesser = lambda r: decision_tree(r[\"Island\"], r[\"Body Mass (g)\"], r[\"Sex\"])\n",
    "penguins[\"Guess\"] = penguins.apply(guesser, axis = 1)"
   ]
  },
  {
   "cell_type": "markdown",
   "metadata": {},
   "source": [
    "## Part G\n",
    "\n",
    "Compute the accuracy of your decision tree -- what percentage of the time does your decision tree give you the right answer? \n",
    "\n",
    "**Hint**: this is a one-liner. The `mean()` of a boolean vector with values `True` and `False` is equal to the percentage of `True` values in that vector. E.g. \n",
    "\n",
    "```python \n",
    "np.array([True, True, True, False, False]).mean() == 0.6\n",
    "```"
   ]
  },
  {
   "cell_type": "code",
   "execution_count": null,
   "metadata": {},
   "outputs": [],
   "source": [
    "# your solution here\n"
   ]
  },
  {
   "cell_type": "markdown",
   "metadata": {},
   "source": [
    "Soon, we'll learn how to use Python to automatically generate good decision trees without us needing to eyeball the data. "
   ]
  }
 ],
 "metadata": {
  "kernelspec": {
   "display_name": "Python 3",
   "language": "python",
   "name": "python3"
  },
  "language_info": {
   "codemirror_mode": {
    "name": "ipython",
    "version": 3
   },
   "file_extension": ".py",
   "mimetype": "text/x-python",
   "name": "python",
   "nbconvert_exporter": "python",
   "pygments_lexer": "ipython3",
   "version": "3.6.5"
  }
 },
 "nbformat": 4,
 "nbformat_minor": 4
}
