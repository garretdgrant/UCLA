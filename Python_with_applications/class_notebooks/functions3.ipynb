{
 "cells": [
  {
   "cell_type": "markdown",
   "id": "1f1716b9",
   "metadata": {},
   "source": [
    "# Functions III: scope and namespaces\n",
    "One thing that might have struck you as a bit odd in when defining functions is that we can seeingly duplicate variables, i.e., declare variables with the same name, both inside the function definition and outside it in the main program. Lets run the following piece of code."
   ]
  },
  {
   "cell_type": "code",
   "execution_count": null,
   "id": "f7207094",
   "metadata": {},
   "outputs": [],
   "source": [
    "x = 3\n",
    "y = 5\n",
    "z = 7\n",
    "\n",
    "def do_stuff(y):\n",
    "    print('Inside function do_stuff')\n",
    "    x = 2\n",
    "    print('x is ' + str(x))\n",
    "    print('y is ' + str(y))\n",
    "    print('z is ' + str(z))\n",
    "    w = x + y + z\n",
    "    print('w is ' +str(w))\n",
    "    print('Exiting function do_stuff')\n",
    "    \n",
    "do_stuff(x)\n",
    "print('Try to access variable w...')\n",
    "print(w)\n",
    "    "
   ]
  },
  {
   "cell_type": "markdown",
   "id": "68f57f2f",
   "metadata": {},
   "source": [
    "This output might be surprising to you and the purpose of this tutorial is to explain what is going on! The key concept we need to be aware of is that a variable has a *scope*, which in short is the parts of the program in which the variable is available/ callable. \n",
    "\n",
    "\n",
    "A namespace describes the variables available or in-scope in a given part of the program. Generally people talk about four namespaces.\n",
    "1) **Built-in**: this is the namespace created by Python at start-up and we won't really go into it in any detail.\n",
    "\n",
    "2) **Global**: this is the namespace of your main program!\n",
    "\n",
    "3) **Local**: these namespaces describe the variables available inside e.g., a given function. If I define three functions then each will have their own namespace.\n",
    "\n",
    "4) **Enclosing**: as an example one can think of the Global namespace as enclosing a local namespace. We will go through some examples later on to get to grips with this idea"
   ]
  },
  {
   "cell_type": "markdown",
   "id": "022ad62e",
   "metadata": {},
   "source": [
    "## Global namespace\n",
    "The global namespace can be accessed through the globals command. This returns a dictionary of key-value pairs where each key is a variable name and each value is the value of the corresponding variable. It describes all the variables that are available/ callable in our main program. Lets clear our program, restart and then run the following cell."
   ]
  },
  {
   "cell_type": "code",
   "execution_count": 8,
   "id": "00d5708c",
   "metadata": {},
   "outputs": [
    {
     "data": {
      "text/plain": [
       "{'__name__': '__main__',\n",
       " '__doc__': 'Automatically created module for IPython interactive environment',\n",
       " '__package__': None,\n",
       " '__loader__': None,\n",
       " '__spec__': None,\n",
       " '__builtin__': <module 'builtins' (built-in)>,\n",
       " '__builtins__': <module 'builtins' (built-in)>,\n",
       " '_ih': ['',\n",
       "  'print(globals())',\n",
       "  'print(globals())\\nx = 1\\ny=2',\n",
       "  'print(globals())\\nx = 1\\ny= 2',\n",
       "  'globals()\\nx = 1\\ny= 2',\n",
       "  'globals()\\nx = 1\\ny= 2\\nglobals()',\n",
       "  \"globals()['x']\",\n",
       "  \"globals()['x'], globals()['y']\",\n",
       "  'x = 1\\ny= 2\\nglobals()'],\n",
       " '_oh': {5: {...}, 6: 1, 7: (1, 2)},\n",
       " '_dh': ['/Users/mjm/Desktop/github/PIC16A/MM_material/lecture-materials/functions/self-study_notebooks'],\n",
       " 'In': ['',\n",
       "  'print(globals())',\n",
       "  'print(globals())\\nx = 1\\ny=2',\n",
       "  'print(globals())\\nx = 1\\ny= 2',\n",
       "  'globals()\\nx = 1\\ny= 2',\n",
       "  'globals()\\nx = 1\\ny= 2\\nglobals()',\n",
       "  \"globals()['x']\",\n",
       "  \"globals()['x'], globals()['y']\",\n",
       "  'x = 1\\ny= 2\\nglobals()'],\n",
       " 'Out': {5: {...}, 6: 1, 7: (1, 2)},\n",
       " 'get_ipython': <bound method InteractiveShell.get_ipython of <ipykernel.zmqshell.ZMQInteractiveShell object at 0x7fa0a90d6580>>,\n",
       " 'exit': <IPython.core.autocall.ZMQExitAutocall at 0x7fa0a912fcd0>,\n",
       " 'quit': <IPython.core.autocall.ZMQExitAutocall at 0x7fa0a912fcd0>,\n",
       " '_': (1, 2),\n",
       " '__': 1,\n",
       " '___': {...},\n",
       " '_i': \"globals()['x'], globals()['y']\",\n",
       " '_ii': \"globals()['x']\",\n",
       " '_iii': 'globals()\\nx = 1\\ny= 2\\nglobals()',\n",
       " '_i1': 'print(globals())',\n",
       " '_i2': 'print(globals())\\nx = 1\\ny=2',\n",
       " 'x': 1,\n",
       " 'y': 2,\n",
       " '_i3': 'print(globals())\\nx = 1\\ny= 2',\n",
       " '_i4': 'globals()\\nx = 1\\ny= 2',\n",
       " '_i5': 'globals()\\nx = 1\\ny= 2\\nglobals()',\n",
       " '_5': {...},\n",
       " '_i6': \"globals()['x']\",\n",
       " '_6': 1,\n",
       " '_i7': \"globals()['x'], globals()['y']\",\n",
       " '_7': (1, 2),\n",
       " '_i8': 'x = 1\\ny= 2\\nglobals()'}"
      ]
     },
     "execution_count": 8,
     "metadata": {},
     "output_type": "execute_result"
    }
   ],
   "source": [
    "x = 1\n",
    "y = 2\n",
    "globals()"
   ]
  },
  {
   "cell_type": "markdown",
   "id": "2d166f3d",
   "metadata": {},
   "source": [
    "As can be observed we get a bunch of stuff initialised at start-up, but also our two variables <code>x</code> and <code>y</code> which we just created. We can access these variables also through globals just as we would any dictionary."
   ]
  },
  {
   "cell_type": "code",
   "execution_count": 7,
   "id": "103540c3",
   "metadata": {},
   "outputs": [
    {
     "data": {
      "text/plain": [
       "(1, 2)"
      ]
     },
     "execution_count": 7,
     "metadata": {},
     "output_type": "execute_result"
    }
   ],
   "source": [
    "globals()['x'], globals()['y']"
   ]
  },
  {
   "cell_type": "markdown",
   "id": "ce8cf5b5",
   "metadata": {},
   "source": [
    "## Local namespaces\n",
    "Local namespaces are a great idea, they even make an appearance in the 'The Zen of Python' which is a set of 20 guidelines which you can view like this. "
   ]
  },
  {
   "cell_type": "code",
   "execution_count": 9,
   "id": "8e885029",
   "metadata": {},
   "outputs": [
    {
     "name": "stdout",
     "output_type": "stream",
     "text": [
      "The Zen of Python, by Tim Peters\n",
      "\n",
      "Beautiful is better than ugly.\n",
      "Explicit is better than implicit.\n",
      "Simple is better than complex.\n",
      "Complex is better than complicated.\n",
      "Flat is better than nested.\n",
      "Sparse is better than dense.\n",
      "Readability counts.\n",
      "Special cases aren't special enough to break the rules.\n",
      "Although practicality beats purity.\n",
      "Errors should never pass silently.\n",
      "Unless explicitly silenced.\n",
      "In the face of ambiguity, refuse the temptation to guess.\n",
      "There should be one-- and preferably only one --obvious way to do it.\n",
      "Although that way may not be obvious at first unless you're Dutch.\n",
      "Now is better than never.\n",
      "Although never is often better than *right* now.\n",
      "If the implementation is hard to explain, it's a bad idea.\n",
      "If the implementation is easy to explain, it may be a good idea.\n",
      "Namespaces are one honking great idea -- let's do more of those!\n"
     ]
    }
   ],
   "source": [
    "import this"
   ]
  },
  {
   "cell_type": "markdown",
   "id": "aa1cef53",
   "metadata": {},
   "source": [
    "Local namespaces are great because otherwise you would have to think up new names for your variables all the time. In the same way 'x' is a common choice of variable name that we use in maths all the time, its nice to be able to reuse variable names when we program. This is particularly true when we consider importing in other peoples functions and modules (which we will cover later). Namespaces also allow one to modularise your code, enabling you to create specific and independent environments for performing certain pieces of functionality. Each function when called creates a local namespace."
   ]
  },
  {
   "cell_type": "code",
   "execution_count": 13,
   "id": "2ffd78f8",
   "metadata": {},
   "outputs": [
    {
     "name": "stdout",
     "output_type": "stream",
     "text": [
      "Inside function do_stuff\n",
      "Variables available inside the function \"do_stuff\":\n",
      "{'y': 3, 'x': 2, 'w': 12}\n",
      "Exiting function do_stuff\n"
     ]
    },
    {
     "data": {
      "text/plain": [
       "(3, 5, 7)"
      ]
     },
     "execution_count": 13,
     "metadata": {},
     "output_type": "execute_result"
    }
   ],
   "source": [
    "x = 3\n",
    "y = 5\n",
    "z = 7\n",
    "\n",
    "def do_stuff(y):\n",
    "    print('Inside function do_stuff')\n",
    "    x = 2\n",
    "    w = x + y + z\n",
    "    print('Variables available inside the function \"do_stuff\":')\n",
    "    print(locals())\n",
    "    print('Exiting function do_stuff')\n",
    "    \n",
    "do_stuff(x)\n",
    "\n",
    "globals()['x'],globals()['y'],globals()['z']"
   ]
  },
  {
   "cell_type": "markdown",
   "id": "a1d002b3",
   "metadata": {},
   "source": [
    "Some **important** observations:\n",
    "- There is both a global variable called <code>x</code> (value 3) and a local variable called <code>x</code> (value 2)\n",
    "- There is also a global variable <code>y</code> (value 5) and a local variable <code>y</code>, which is created by argument assignment. When we call do_stuff(x) then really we are just assigning <code>y = x</code> inside of our function.\n",
    "- There is only a single global variable <code>z</code>. Even though this isn't in the function's local namespace we can still access it inside of the function!\n",
    "- There is only a single local variable <code>w</code>. This is available inside of the function but is not available back in the main program. Indeed, once this particular function call exits its local namespace ceases to exist!\n",
    "\n",
    "Given that we are resuing variable names, how does Python know decide which one we are referring to?"
   ]
  },
  {
   "cell_type": "markdown",
   "id": "c6637388",
   "metadata": {},
   "source": [
    "## Variable resolution in Python\n",
    "It is worth bearing in mind the following acronym, LEGB, which dictates the order of the namespaces that Python will consider when looking for a variable. What this means is that when I try to access or use a variable <code>x</code> say, Python will use the first variable <code>x</code> it finds. Python will first look for <code>x</code> in the local namespace, if it can't find it there it proceeds to look in the Enclosing namespace, then the Global and finally the Built-in. If the variable can't be found anywhere then an error is thrown. Lets see this through the example below."
   ]
  },
  {
   "cell_type": "code",
   "execution_count": 18,
   "id": "f5410e0d",
   "metadata": {},
   "outputs": [
    {
     "name": "stdout",
     "output_type": "stream",
     "text": [
      "x,y,z in global:\n",
      "1 2 3\n",
      "x,y,z in f1 local:\n",
      "10 2 3\n",
      "x,y,z in f2 local:\n",
      "10 200 3\n"
     ]
    }
   ],
   "source": [
    "x = 1\n",
    "y = 2\n",
    "z = 3\n",
    "\n",
    "def f1():\n",
    "    x = 10\n",
    "    print('x,y,z in f1 local:')\n",
    "    print(x,y,z)\n",
    "    def f2():\n",
    "        y = 200\n",
    "        print('x,y,z in f2 local:')\n",
    "        print(x,y,z)\n",
    "    f2()\n",
    "\n",
    "print('x,y,z in global:')\n",
    "print(x,y,z)\n",
    "f1()\n",
    "\n",
    "    \n",
    "    "
   ]
  },
  {
   "cell_type": "markdown",
   "id": "3e50286e",
   "metadata": {},
   "source": [
    "Inside of f2 we define a new variable <code>y</code> with value 200. There is no variable <code>x</code> in the local namespace of f2 so when <code>x</code> is called inside of f2 Python searches the enclosing namespace of f2, which is the local namespace of f1! Here it finds a variable defined called <code>x</code> with value 10 and so uses this. When <code>z</code> is called inside of f2 Python finds no variable with that name in either the local or enclosing namespace, but does find a variable <code>z</code> with value 3 in the global namespace, so uses that. This illustrates how Python carries out variable resolution."
   ]
  },
  {
   "cell_type": "code",
   "execution_count": null,
   "id": "3d1b1c82",
   "metadata": {},
   "outputs": [],
   "source": []
  }
 ],
 "metadata": {
  "kernelspec": {
   "display_name": "Python 3",
   "language": "python",
   "name": "python3"
  },
  "language_info": {
   "codemirror_mode": {
    "name": "ipython",
    "version": 3
   },
   "file_extension": ".py",
   "mimetype": "text/x-python",
   "name": "python",
   "nbconvert_exporter": "python",
   "pygments_lexer": "ipython3",
   "version": "3.8.8"
  }
 },
 "nbformat": 4,
 "nbformat_minor": 5
}
