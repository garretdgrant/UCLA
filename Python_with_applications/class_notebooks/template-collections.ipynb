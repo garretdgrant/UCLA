{
 "cells": [
  {
   "cell_type": "markdown",
   "metadata": {},
   "source": [
    "# Collections\n",
    "\n",
    "In this lecture we will review the three collections introduced in the self-study videos and notebooks, namely:\n",
    "\n",
    "1) tuples\n",
    "\n",
    "2) sets\n",
    "\n",
    "3) dictionaries"
   ]
  },
  {
   "cell_type": "markdown",
   "metadata": {},
   "source": [
    "## Tuples\n",
    "Tuples can be thought of as immutable lists and are declared in a very similar way, with a bracketed list, using `( )`, of items delimited by commas. Tuples cannot be changed once declared or instantiated, they also have fewer methods compared with lists.\n",
    "   - True or False in regard to tuples:\n",
    "        - collection\n",
    "        - iterable\n",
    "        - ordered (or indexed)\n",
    "        - mutable\n",
    "        - elements must be unique\n",
    "   - Talk to your neighbours and discuss a use case in which it might be better to use a tuple rather than a list"
   ]
  },
  {
   "cell_type": "code",
   "execution_count": null,
   "metadata": {},
   "outputs": [],
   "source": [
    "# Declaration\n",
    "my_tuple = (3.14, 'Eagle', 'Mustang','Mustang', 4)"
   ]
  },
  {
   "cell_type": "code",
   "execution_count": null,
   "metadata": {},
   "outputs": [],
   "source": [
    "# Element access\n"
   ]
  },
  {
   "cell_type": "code",
   "execution_count": null,
   "metadata": {},
   "outputs": [],
   "source": [
    "# Element assignment is not possible\n"
   ]
  },
  {
   "cell_type": "code",
   "execution_count": null,
   "metadata": {},
   "outputs": [],
   "source": [
    "# Tuple methods\n",
    "# index\n",
    "# count"
   ]
  },
  {
   "cell_type": "markdown",
   "metadata": {},
   "source": [
    "## Sets\n",
    "Sets in python work in the same way as they do in mathematics. They are declared with a bracketed list, using `{ }`, of items delimited by commas.\n",
    "   - True or False in regard to sets:\n",
    "        - collection\n",
    "        - iterable\n",
    "        - ordered (or indexed)\n",
    "        - mutable\n",
    "        - elements must be unique\n",
    "   - Give a use case in which it might be better to use a set rather than a list or tuple"
   ]
  },
  {
   "cell_type": "code",
   "execution_count": null,
   "metadata": {},
   "outputs": [],
   "source": [
    "# Declaration or creation\n",
    "my_set = {3.14, 'Eagle', 'Mustang','Mustang', 4}\n",
    "my_set"
   ]
  },
  {
   "cell_type": "code",
   "execution_count": null,
   "metadata": {},
   "outputs": [],
   "source": [
    "# Element access and assignment\n"
   ]
  },
  {
   "cell_type": "code",
   "execution_count": null,
   "metadata": {},
   "outputs": [],
   "source": [
    "# Set methods\n",
    "S = {1,2,3,4}\n",
    "T = {3,4,5,6}\n",
    "M = {1,2}\n",
    "print(M.issubset(S))# issubset()\n",
    "print(M.symmetric_difference(S))# symmetric_difference()\n",
    "print(M.isdisjoint(T))# isdisjoint()\n",
    "S.remove(1)# remove an element\n",
    "print(S)\n",
    "S.update({1})\n",
    "print(S)"
   ]
  },
  {
   "cell_type": "code",
   "execution_count": null,
   "metadata": {},
   "outputs": [],
   "source": [
    "# Challenge: using list comprehension find all numbers less than 100 which are divisible \n",
    "# by 3 and 5\n",
    "\n",
    "# by 3 or 5\n",
    "\n",
    "# by 3 but not 5\n",
    "\n",
    "# by neither 3 or 5\n"
   ]
  },
  {
   "cell_type": "code",
   "execution_count": null,
   "metadata": {},
   "outputs": [],
   "source": [
    "# The same doing sets (you can use list comprehensions to generate the sets)\n",
    "\n",
    "# by 3 and 5\n",
    "\n",
    "# by 3 or 5\n",
    "\n",
    "# by 3 but not 5\n",
    "\n",
    "# by neither 3 or 5\n"
   ]
  },
  {
   "cell_type": "markdown",
   "metadata": {},
   "source": [
    "## Dictionaries\n",
    "Dictionaries in python are sets of key-value pairs. They are declared with a bracketed list, using `{ }`, of pairs, key:value, delimited by commas.\n",
    "   - True or False in regard to dictionaries:\n",
    "        - collection\n",
    "        - iterable\n",
    "        - ordered (or indexed)\n",
    "        - mutable\n",
    "        - elements must be unique\n",
    "        - keys must be unique\n",
    "        - values must be unique\n",
    "   - Give a use case in which it might be better to use a dictionary rather than a list, tuple or set"
   ]
  },
  {
   "cell_type": "code",
   "execution_count": null,
   "metadata": {},
   "outputs": [],
   "source": [
    "# Declaration or creation\n",
    "fruit_bowl = {'lemons':0, 'oranges': 2, 'bannanas':3}"
   ]
  },
  {
   "cell_type": "code",
   "execution_count": null,
   "metadata": {},
   "outputs": [],
   "source": [
    "# Element access\n"
   ]
  },
  {
   "cell_type": "code",
   "execution_count": null,
   "metadata": {},
   "outputs": [],
   "source": [
    "# Element assignment\n"
   ]
  },
  {
   "cell_type": "code",
   "execution_count": null,
   "metadata": {},
   "outputs": [],
   "source": [
    "# Adding further elements to a dictionary via assigment and also using .update({})\n"
   ]
  },
  {
   "cell_type": "code",
   "execution_count": null,
   "metadata": {},
   "outputs": [],
   "source": [
    "# Some methods with dictionaries\n",
    "# .get() to avoid key error\n",
    "\n",
    "# initialise a dict with none values using {}.fromkeys(keys)\n",
    "fruits = ['lemons', 'oranges', 'bannanas']\n"
   ]
  },
  {
   "cell_type": "code",
   "execution_count": null,
   "metadata": {},
   "outputs": [],
   "source": [
    "# Challenge: store down each unique word in a string and capture frequency\n",
    "s = \"The only person for whom the house was in any way special was Arthur Dent, and that was only because it happened to be the one he lived in. He had lived in it for about three years, ever since he had moved out of London because it made him nervous and irritable. He was about thirty as well, tall, dark-haired and never quite at ease with himself. The thing that used to worry him most was the fact that people always used to ask him what he was looking so worried about. He worked in local radio which he always used to tell his friends was a lot more interesting than they probably thought. It was, too—most of his friends worked in advertising.\"\n",
    "\n",
    "# Approach 1 using set\n",
    "# Write psuedocode!\n"
   ]
  },
  {
   "cell_type": "code",
   "execution_count": null,
   "metadata": {},
   "outputs": [],
   "source": [
    "# A more efficient approach...\n"
   ]
  }
 ],
 "metadata": {
  "kernelspec": {
   "display_name": "Python 3 (ipykernel)",
   "language": "python",
   "name": "python3"
  },
  "language_info": {
   "codemirror_mode": {
    "name": "ipython",
    "version": 3
   },
   "file_extension": ".py",
   "mimetype": "text/x-python",
   "name": "python",
   "nbconvert_exporter": "python",
   "pygments_lexer": "ipython3",
   "version": "3.9.12"
  }
 },
 "nbformat": 4,
 "nbformat_minor": 2
}
