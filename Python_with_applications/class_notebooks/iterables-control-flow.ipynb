{
 "cells": [
  {
   "cell_type": "markdown",
   "metadata": {},
   "source": [
    "# Lecture 3: iterables and control flow\n",
    "In this lecture we review the following\n",
    "\n",
    "1) for loops and while loops\n",
    "\n",
    "2) iterables, in particular strings, lists and list comprehensions\n",
    "\n",
    "3) continue and break"
   ]
  },
  {
   "cell_type": "markdown",
   "metadata": {},
   "source": [
    "## 1) For loops, while loops and `continue` and `break` commands\n",
    "For loops and while loops allow the same piece of code to be run multiple times. In both cases the loop consists of\n",
    "   - a loop body which is denoted through indentation\n",
    "   - an index or loop variable controlling the number of iterations\n",
    "\n",
    "In the case of while loops the index variable is a logical condition: the loop exits when this condition evaluates `false`. In for loops the index variable passes through an iterable."
   ]
  },
  {
   "cell_type": "code",
   "execution_count": null,
   "metadata": {},
   "outputs": [],
   "source": [
    "# Simple for and while loop construction examples to familiarise with syntax\n",
    "print('For loop to print numbers 1-5')\n",
    "for i in range(5):\n",
    "    print(i+1)\n",
    "    \n",
    "print('While loop to print numbers 1-5')\n",
    "loop = True\n",
    "counter = 0\n",
    "\n",
    "while loop == True: # while loop declaration\n",
    "    \n",
    "    # while loop declaration\n",
    "    counter +=1\n",
    "    print(counter)\n",
    "    if counter >= 5:\n",
    "        loop = False"
   ]
  },
  {
   "cell_type": "code",
   "execution_count": null,
   "metadata": {},
   "outputs": [],
   "source": [
    "# Find the sum of all the multiples of 3 OR 5 below 1000.\n",
    "total = 8\n",
    "for x in range(6,1000):\n",
    "    if x%3 ==0 or x%5==0:\n",
    "        total+=x\n",
    "print(x)"
   ]
  },
  {
   "cell_type": "code",
   "execution_count": 2,
   "metadata": {},
   "outputs": [
    {
     "name": "stdout",
     "output_type": "stream",
     "text": [
      "4613732\n"
     ]
    }
   ],
   "source": [
    "# Considering the terms in the Fibonacci sequence whose values do not exceed four million, \n",
    "# find the sum of the even-valued terms. Taken from Project Euler\n",
    "\n",
    "total = 0\n",
    "x =  0\n",
    "y =  1\n",
    "while y+x <4e6:\n",
    "    z = x + y\n",
    "    if z%2 == 0:\n",
    "        total += z\n",
    "    x = y\n",
    "    y = z\n",
    "    \n",
    "print(total)       "
   ]
  },
  {
   "cell_type": "code",
   "execution_count": null,
   "metadata": {},
   "outputs": [],
   "source": [
    "# Your turn...\n"
   ]
  },
  {
   "cell_type": "markdown",
   "metadata": {},
   "source": [
    "Continue and break commands can cause the current loop or full loop to exit respectively"
   ]
  },
  {
   "cell_type": "markdown",
   "metadata": {},
   "source": [
    "<figure class=\"image\" style=\"width:50%\">\n",
    "  <img src=\"https://files.realpython.com/media/t.899f357dd948.png\" alt=\"A schematic while-loop with a placeholder body, followed by a statement outside the loop. The body includes lines for break and continue. The break line has an arrow pointing to the external statement below the loop, while the continue line has an arrow pointing to the while expression.\">\n",
    "  <figcaption><i>Schematic working of break and continue.</i></figcaption>\n",
    "</figure>"
   ]
  },
  {
   "cell_type": "code",
   "execution_count": 5,
   "metadata": {},
   "outputs": [
    {
     "name": "stdout",
     "output_type": "stream",
     "text": [
      "[0 0 0 1 0 0 0 0 0 0 0 0 0 0 0 0 0 0 0 0 0 0 0 0 0 0 0 0 0 0 0 0 0 0 0 0 0\n",
      " 0 0 0 0 0 0 0 0 0 0 0 0 0 0 0 0 0 0 0 0 0 0 0 0 0 0 1 0 0 0 0 0 0 0 0 0 0\n",
      " 0 0 0 0 0 0 0 0 0 0 0 0 0 0 0 0 0 0 0 0 0 0 0 0 0 0]\n",
      "Location is 4\n"
     ]
    }
   ],
   "source": [
    "# while / for loop example to illustrate breaks \n",
    "# Example problem: find first instance of something in a list or string\n",
    "import numpy as np\n",
    "\n",
    "n =1\n",
    "p= 0.01\n",
    "m = 100\n",
    "\n",
    "x = np.random.binomial(n,p,m)\n",
    "print(x)\n",
    "first_found = False\n",
    "i = 0\n",
    "\n",
    "while first_found == False and i <m:\n",
    "    if int(x[i]) == 1:\n",
    "        first_found = True\n",
    "        break\n",
    "    else:\n",
    "        i+=1\n",
    "\n",
    "if i == m:\n",
    "    print('No ones found')\n",
    "else:\n",
    "    print('Location is ' + str(i+1))\n"
   ]
  },
  {
   "cell_type": "markdown",
   "metadata": {},
   "source": [
    "## 2) A first look at iterables with strings and lists\n",
    "Iterables can be thought of as a collection of objects which can be accessed in a specific order. This week we have encountered two such objects,\n",
    "   - strings: a sequence of characters\n",
    "   - lists: a sequence of generic objects (strings, numbers, other lists! etc...)\n",
    "\n",
    "In both cases the characters/ objects are ordered starting from left to right, and can be accessed according to their index. By iterating over the indices of the these objects the iterable can be traversed."
   ]
  },
  {
   "cell_type": "code",
   "execution_count": null,
   "metadata": {},
   "outputs": [],
   "source": [
    "# Print the contents of a strin\n",
    "# Option 1\n",
    "\n",
    "s = 'PIC16A is awesome!'\n",
    "\n",
    "for char in s:\n",
    "    print(char)\n",
    "    "
   ]
  },
  {
   "cell_type": "code",
   "execution_count": null,
   "metadata": {},
   "outputs": [],
   "source": [
    "# Put the contents of a string into a list and visa versa\n",
    "l = []\n",
    "for char in s:\n",
    "    l.append(char)\n",
    "    \n",
    "print(l)\n",
    "new_s = ''\n",
    "for item in l:\n",
    "    new_s = new_s + item\n",
    "new_s"
   ]
  },
  {
   "cell_type": "code",
   "execution_count": null,
   "metadata": {},
   "outputs": [],
   "source": [
    "# Objects in a list can have different type and can contain duplicate objects\n",
    "my_cool_list = [1,'alligator', 3.14, 3.12]"
   ]
  },
  {
   "cell_type": "code",
   "execution_count": null,
   "metadata": {},
   "outputs": [],
   "source": [
    "# Lists have a bunch of methods associated with them which can come in handy\n",
    "# insert an entry\n",
    "my_cool_list.insert(2, 'python')\n",
    "print(my_cool_list)\n",
    "# return the index of the first object which matches a value\n",
    "my_cool_list.index('python')\n",
    "# reverse the order of a list\n",
    "my_cool_list[::-1]\n",
    "# remove the first entry in list which matches a value\n",
    "my_cool_list.remove('python')"
   ]
  },
  {
   "cell_type": "markdown",
   "metadata": {},
   "source": [
    "List comprehensions, whose notation is based on set builder notation are an elegant way to construct lists."
   ]
  },
  {
   "cell_type": "code",
   "execution_count": null,
   "metadata": {},
   "outputs": [],
   "source": [
    "# Put the contents of a string into a list\n",
    "s = 'PIC16A is awesome!'\n",
    "l = [char for char in s]\n",
    "print(l)"
   ]
  },
  {
   "cell_type": "code",
   "execution_count": null,
   "metadata": {},
   "outputs": [],
   "source": [
    "# Remove all the vowels in a string\n",
    "vowels = ['A', 'E', 'I', 'O', 'U', 'a', 'e', 'i', 'o', 'u']\n",
    "l = [char for char in s if char not in vowels]\n",
    "l"
   ]
  },
  {
   "cell_type": "code",
   "execution_count": null,
   "metadata": {},
   "outputs": [],
   "source": [
    "# Your turn..."
   ]
  },
  {
   "cell_type": "markdown",
   "metadata": {},
   "source": [
    "## 3) Branching"
   ]
  },
  {
   "cell_type": "markdown",
   "metadata": {},
   "source": [
    "Condition statements `if`, `elif`, and `else` allow us to run certain pieces of code only if particular logical conditions are satisfied, thereby enabling different program branches."
   ]
  },
  {
   "cell_type": "markdown",
   "metadata": {},
   "source": [
    "<figure class=\"image\" style=\"width:50%\">\n",
    "  <img src=\"https://media.geeksforgeeks.org/wp-content/uploads/if-statement.jpg\" alt=\"A schematic while-loop with a placeholder body, followed by a statement outside the loop. The body includes lines for break and continue. The break line has an arrow pointing to the external statement below the loop, while the continue line has an arrow pointing to the while expression.\">\n",
    "  <figcaption><i>Schematic illustrating branching functionality.</i></figcaption>\n",
    "</figure>"
   ]
  },
  {
   "cell_type": "code",
   "execution_count": 3,
   "metadata": {},
   "outputs": [
    {
     "name": "stdout",
     "output_type": "stream",
     "text": [
      "238761293\n",
      "two three eight seven six one two nine three \n"
     ]
    }
   ],
   "source": [
    "# Write a simple conditional branching statement that process a user input converting digits to words\n",
    "digits = str(input())\n",
    "out_string = ''\n",
    "for char in digits:\n",
    "    if char == '0':\n",
    "        out_string = out_string + 'zero '        \n",
    "    elif char == '1':\n",
    "        out_string = out_string + 'one '\n",
    "    elif char == '2':\n",
    "        out_string = out_string + 'two '\n",
    "    elif char == '3':\n",
    "        out_string = out_string + 'three '\n",
    "    elif char == '4':\n",
    "        out_string = out_string + 'four '\n",
    "    elif char == '5':\n",
    "        out_string = out_string + 'five '\n",
    "    elif char == '6':\n",
    "        out_string = out_string + 'six '\n",
    "    elif char == '7':\n",
    "        out_string = out_string + 'seven '\n",
    "    elif char == '8':\n",
    "        out_string = out_string + 'eight '\n",
    "    elif char == '9':\n",
    "        out_string = out_string + 'nine '\n",
    "    else:\n",
    "        print('User did not input only digits')\n",
    "\n",
    "out_string.strip()\n",
    "print(out_string)\n",
    "        \n",
    "\n"
   ]
  }
 ],
 "metadata": {
  "kernelspec": {
   "display_name": "Python 3",
   "language": "python",
   "name": "python3"
  },
  "language_info": {
   "codemirror_mode": {
    "name": "ipython",
    "version": 3
   },
   "file_extension": ".py",
   "mimetype": "text/x-python",
   "name": "python",
   "nbconvert_exporter": "python",
   "pygments_lexer": "ipython3",
   "version": "3.8.8"
  }
 },
 "nbformat": 4,
 "nbformat_minor": 2
}
