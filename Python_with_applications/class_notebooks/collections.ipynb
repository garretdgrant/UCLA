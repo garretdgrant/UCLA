{
 "cells": [
  {
   "cell_type": "markdown",
   "metadata": {},
   "source": [
    "# Lecture 4: more collections\n",
    "\n",
    "In this lecture we will review the three collections introduced in the self-study videos and notebooks, namely:\n",
    "\n",
    "1) tuples\n",
    "\n",
    "2) sets\n",
    "\n",
    "3) dictionaries"
   ]
  },
  {
   "cell_type": "markdown",
   "metadata": {},
   "source": [
    "## Tuples\n",
    "Tuples can be thought of as immutable lists and are declared in a very similar way, with a bracketed list, using `( )`, of items delimited by commas. Tuples cannot be changed once declared or instantiated, they also have fewer methods compared with lists.\n",
    "   - True or False in regard to tuples:\n",
    "        - collection\n",
    "        - iterable\n",
    "        - ordered (or indexed)\n",
    "        - mutable\n",
    "        - elements must be unique\n",
    "   - Talk to your neighbours and discuss a use case in which it might be better to use a tuple rather than a list"
   ]
  },
  {
   "cell_type": "code",
   "execution_count": null,
   "metadata": {},
   "outputs": [],
   "source": [
    "# Declaration\n",
    "my_tuple = (3.14, 'Eagle', 'Mustang','Mustang', 4)"
   ]
  },
  {
   "cell_type": "code",
   "execution_count": null,
   "metadata": {},
   "outputs": [],
   "source": [
    "# Element access\n",
    "print(my_tuple[1])"
   ]
  },
  {
   "cell_type": "code",
   "execution_count": null,
   "metadata": {},
   "outputs": [],
   "source": [
    "# Element assignment is not possible\n",
    "my_tuple[1] = 'Bald Eagle'"
   ]
  },
  {
   "cell_type": "code",
   "execution_count": null,
   "metadata": {},
   "outputs": [],
   "source": [
    "# Tuple methods\n",
    "my_tuple.index('Mustang')# index\n",
    "my_tuple.count('Mustang')# count"
   ]
  },
  {
   "cell_type": "markdown",
   "metadata": {},
   "source": [
    "## Sets\n",
    "Sets in python work in the same way as they do in mathematics. They are declared with a bracketed list, using `{ }`, of items delimited by commas.\n",
    "   - True or False in regard to sets:\n",
    "        - collection\n",
    "        - iterable\n",
    "        - ordered (or indexed)\n",
    "        - mutable\n",
    "        - elements must be unique\n",
    "   - Give a use case in which it might be better to use a set rather than a list or tuple"
   ]
  },
  {
   "cell_type": "code",
   "execution_count": 2,
   "metadata": {},
   "outputs": [
    {
     "data": {
      "text/plain": [
       "{3.14, 4, 'Eagle', 'Mustang'}"
      ]
     },
     "execution_count": 2,
     "metadata": {},
     "output_type": "execute_result"
    }
   ],
   "source": [
    "# Declaration or creation\n",
    "my_set = {3.14, 'Eagle', 'Mustang','Mustang', 4}\n",
    "my_set"
   ]
  },
  {
   "cell_type": "code",
   "execution_count": 3,
   "metadata": {},
   "outputs": [
    {
     "ename": "TypeError",
     "evalue": "'set' object is not subscriptable",
     "output_type": "error",
     "traceback": [
      "\u001b[0;31m---------------------------------------------------------------------------\u001b[0m",
      "\u001b[0;31mTypeError\u001b[0m                                 Traceback (most recent call last)",
      "\u001b[0;32m<ipython-input-3-9e643b39755e>\u001b[0m in \u001b[0;36m<module>\u001b[0;34m\u001b[0m\n\u001b[1;32m      1\u001b[0m \u001b[0;31m# Element access and assignment\u001b[0m\u001b[0;34m\u001b[0m\u001b[0;34m\u001b[0m\u001b[0;34m\u001b[0m\u001b[0m\n\u001b[0;32m----> 2\u001b[0;31m \u001b[0mprint\u001b[0m\u001b[0;34m(\u001b[0m\u001b[0mmy_set\u001b[0m\u001b[0;34m[\u001b[0m\u001b[0;36m1\u001b[0m\u001b[0;34m]\u001b[0m\u001b[0;34m)\u001b[0m\u001b[0;34m\u001b[0m\u001b[0;34m\u001b[0m\u001b[0m\n\u001b[0m\u001b[1;32m      3\u001b[0m \u001b[0mmy_set\u001b[0m\u001b[0;34m[\u001b[0m\u001b[0;36m1\u001b[0m\u001b[0;34m]\u001b[0m \u001b[0;34m=\u001b[0m \u001b[0;36m2\u001b[0m\u001b[0;34m\u001b[0m\u001b[0;34m\u001b[0m\u001b[0m\n",
      "\u001b[0;31mTypeError\u001b[0m: 'set' object is not subscriptable"
     ]
    }
   ],
   "source": [
    "# Element access and assignment\n",
    "print(my_set[1])\n",
    "my_set[1] = 2"
   ]
  },
  {
   "cell_type": "code",
   "execution_count": null,
   "metadata": {},
   "outputs": [],
   "source": [
    "# Set methods\n",
    "S = {1,2,3,4}\n",
    "T = {3,4,5,6}\n",
    "M = {1,2}\n",
    "print(M.issubset(S))# issubset()\n",
    "print(M.symmetric_difference(S))# symmetric_difference()\n",
    "print(M.isdisjoint(T))# isdisjoint()\n",
    "S.remove(1)# remove an element\n",
    "print(S)\n",
    "S.update({1})\n",
    "print(S)"
   ]
  },
  {
   "cell_type": "code",
   "execution_count": null,
   "metadata": {},
   "outputs": [],
   "source": [
    "# Challenge: using lists and sets find all numbers less than 100 which are divisible \n",
    "# by 3 and 5\n",
    "[i for i in range(100) if i%3==0 and i%5==0]\n",
    "# by 3 or 5\n",
    "[i for i in range(100) if i%3==0 or i%5==0]\n",
    "# by 3 but not 5\n",
    "[i for i in range(100) if i%3==0 or i%5!=0]\n",
    "# by neither 3 or 5\n",
    "[i for i in range(100) if i%3!=0 or i%5!=0]"
   ]
  },
  {
   "cell_type": "code",
   "execution_count": 7,
   "metadata": {},
   "outputs": [
    {
     "data": {
      "text/plain": [
       "{1,\n",
       " 2,\n",
       " 4,\n",
       " 7,\n",
       " 8,\n",
       " 11,\n",
       " 13,\n",
       " 14,\n",
       " 16,\n",
       " 17,\n",
       " 19,\n",
       " 22,\n",
       " 23,\n",
       " 26,\n",
       " 28,\n",
       " 29,\n",
       " 31,\n",
       " 32,\n",
       " 34,\n",
       " 37,\n",
       " 38,\n",
       " 41,\n",
       " 43,\n",
       " 44,\n",
       " 46,\n",
       " 47,\n",
       " 49,\n",
       " 52,\n",
       " 53,\n",
       " 56,\n",
       " 58,\n",
       " 59,\n",
       " 61,\n",
       " 62,\n",
       " 64,\n",
       " 67,\n",
       " 68,\n",
       " 71,\n",
       " 73,\n",
       " 74,\n",
       " 76,\n",
       " 77,\n",
       " 79,\n",
       " 82,\n",
       " 83,\n",
       " 86,\n",
       " 88,\n",
       " 89,\n",
       " 91,\n",
       " 92,\n",
       " 94,\n",
       " 97,\n",
       " 98}"
      ]
     },
     "execution_count": 7,
     "metadata": {},
     "output_type": "execute_result"
    }
   ],
   "source": [
    "# The same doing sets\n",
    "div_3 = set([i for i in range(100) if i%3==0])\n",
    "div_5 = set([i for i in range(100) if i%5==0])\n",
    "not_div_3 = set([i for i in range(100) if i%3!=0])\n",
    "not_div_5 = set([i for i in range(100) if i%5!=0])\n",
    "# by 3 and 5\n",
    "div_3.intersection(div_5)\n",
    "# by 3 or 5\n",
    "div_3.union(div_5)\n",
    "# by 3 but not 5\n",
    "div_3.intersection(not_div_5)\n",
    "# by neither 3 or 5\n",
    "(set(range(100))).symmetric_difference(div_3.union(div_5))"
   ]
  },
  {
   "cell_type": "markdown",
   "metadata": {},
   "source": [
    "## Dictionaries\n",
    "Dictionaries in python are sets of key-value pairs. They are declared with a bracketed list, using `{ }`, of pairs, key:value, delimited by commas.\n",
    "   - True or False in regard to dictionaries:\n",
    "        - collection\n",
    "        - iterable\n",
    "        - ordered (or indexed)\n",
    "        - mutable\n",
    "        - elements must be unique\n",
    "        - keys must be unique\n",
    "        - values must be unique\n",
    "   - Give a use case in which it might be better to use a dictionary rather than a list, tuple or set"
   ]
  },
  {
   "cell_type": "code",
   "execution_count": 3,
   "metadata": {},
   "outputs": [],
   "source": [
    "# Declaration or creation\n",
    "fruit_bowl = {'lemons':0, 'oranges': 2, 'bannanas':3}"
   ]
  },
  {
   "cell_type": "code",
   "execution_count": 4,
   "metadata": {},
   "outputs": [
    {
     "data": {
      "text/plain": [
       "0"
      ]
     },
     "execution_count": 4,
     "metadata": {},
     "output_type": "execute_result"
    }
   ],
   "source": [
    "# Element access\n",
    "fruit_bowl['lemons']"
   ]
  },
  {
   "cell_type": "code",
   "execution_count": 5,
   "metadata": {},
   "outputs": [
    {
     "data": {
      "text/plain": [
       "{'lemons': 1, 'oranges': 2, 'bannanas': 3}"
      ]
     },
     "execution_count": 5,
     "metadata": {},
     "output_type": "execute_result"
    }
   ],
   "source": [
    "# Element assignment\n",
    "fruit_bowl['lemons'] = 1\n",
    "fruit_bowl"
   ]
  },
  {
   "cell_type": "code",
   "execution_count": 6,
   "metadata": {},
   "outputs": [
    {
     "data": {
      "text/plain": [
       "{'lemons': 1,\n",
       " 'oranges': 2,\n",
       " 'bannanas': 3,\n",
       " 'apples': 4,\n",
       " 'kiwi': 3,\n",
       " 'pineapple': 1}"
      ]
     },
     "execution_count": 6,
     "metadata": {},
     "output_type": "execute_result"
    }
   ],
   "source": [
    "# Adding further elements to a dictionary\n",
    "fruit_bowl['apples'] = 4\n",
    "fruit_bowl.update({'kiwi':3, 'pineapple':1})\n",
    "fruit_bowl"
   ]
  },
  {
   "cell_type": "code",
   "execution_count": 9,
   "metadata": {},
   "outputs": [
    {
     "data": {
      "text/plain": [
       "{'lemons': 0, 'oranges': 0, 'bannanas': 0, 'peaches': 4}"
      ]
     },
     "execution_count": 9,
     "metadata": {},
     "output_type": "execute_result"
    }
   ],
   "source": [
    "# Some methods with dictionaries\n",
    "# .get() to avoid key error\n",
    "# fruit_bowl['peaches']\n",
    "fruit_bowl.get('peaches', 'not found')\n",
    "# initialise a dict with none values using .fromkeys(keys)\n",
    "fruits = ['lemons', 'oranges', 'bannanas']\n",
    "fruit_bowl = {}.fromkeys(fruits, 0)\n",
    "fruit_bowl"
   ]
  },
  {
   "cell_type": "code",
   "execution_count": 4,
   "metadata": {},
   "outputs": [],
   "source": [
    "# Challenge: store down each unique word in a string and capture frequency\n",
    "s = \"The only person for whom the house was in any way special was Arthur Dent, and that was only because it happened to be the one he lived in. He had lived in it for about three years, ever since he had moved out of London because it made him nervous and irritable. He was about thirty as well, tall, dark-haired and never quite at ease with himself. The thing that used to worry him most was the fact that people always used to ask him what he was looking so worried about. He worked in local radio which he always used to tell his friends was a lot more interesting than they probably thought. It was, too—most of his friends worked in advertising.\"\n",
    "\n",
    "# Slower way but neat to write!\n",
    "words = s.split()\n",
    "unique_words = set(words)\n",
    "frequency = dict.fromkeys(unique_words, 0)\n",
    "\n",
    "for word in words:\n",
    "    frequency[word] += 1"
   ]
  },
  {
   "cell_type": "code",
   "execution_count": null,
   "metadata": {},
   "outputs": [],
   "source": [
    "# A more efficient approach\n",
    "unique_dict = {}\n",
    "for w in words:\n",
    "    present = unique_dict.get(w, False)\n",
    "    if present == False:\n",
    "        unique_dict[w] = 1\n",
    "    else:\n",
    "        unique_dict[w] +=1\n",
    "\n",
    "unique_dict"
   ]
  }
 ],
 "metadata": {
  "kernelspec": {
   "display_name": "Python 3",
   "language": "python",
   "name": "python3"
  },
  "language_info": {
   "codemirror_mode": {
    "name": "ipython",
    "version": 3
   },
   "file_extension": ".py",
   "mimetype": "text/x-python",
   "name": "python",
   "nbconvert_exporter": "python",
   "pygments_lexer": "ipython3",
   "version": "3.8.8"
  }
 },
 "nbformat": 4,
 "nbformat_minor": 2
}
