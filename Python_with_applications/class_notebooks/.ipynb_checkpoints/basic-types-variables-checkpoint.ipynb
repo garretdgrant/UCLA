{
 "cells": [
  {
   "cell_type": "markdown",
   "metadata": {},
   "source": [
    "# Basic types and variables\n",
    "What we will review:\n",
    "\n",
    "1) Variables\n",
    "\n",
    "2) Basic math operations and arithmetic errors\n",
    "\n",
    "3) Processing strings"
   ]
  },
  {
   "cell_type": "markdown",
   "metadata": {},
   "source": [
    "## 1) Variables in python"
   ]
  },
  {
   "cell_type": "markdown",
   "metadata": {},
   "source": [
    "Recall from PIC10A that in C++ a variable is a memory location with a unique name. In Python a variable is a name bound to particular memory location. In particular this has the following implications:\n",
    "   - Python variables are not necessarily unique! The same memory location can have multiple names potentially\n",
    "   - Assignment binds a variable or name to a memory location\n",
    "   - Declaring a python variables requires only assignment\n",
    "   - As names can be bound to different address the same name can be used to represent multiple different data types (Python is dynamically typed!)"
   ]
  },
  {
   "cell_type": "code",
   "execution_count": 1,
   "metadata": {},
   "outputs": [
    {
     "data": {
      "text/plain": [
       "(True, True)"
      ]
     },
     "execution_count": 1,
     "metadata": {},
     "output_type": "execute_result"
    }
   ],
   "source": [
    "x = 1\n",
    "y = 1\n",
    "x==y, x is y"
   ]
  },
  {
   "cell_type": "code",
   "execution_count": 3,
   "metadata": {},
   "outputs": [
    {
     "data": {
      "text/plain": [
       "(True, False)"
      ]
     },
     "execution_count": 3,
     "metadata": {},
     "output_type": "execute_result"
    }
   ],
   "source": [
    "x = 1000\n",
    "# y = x\n",
    "y = 1000\n",
    "x==y, x is y"
   ]
  },
  {
   "cell_type": "code",
   "execution_count": 4,
   "metadata": {},
   "outputs": [
    {
     "data": {
      "text/plain": [
       "(True, False, 2, 2.0)"
      ]
     },
     "execution_count": 4,
     "metadata": {},
     "output_type": "execute_result"
    }
   ],
   "source": [
    "x = 2\n",
    "y = 4\n",
    "z = 4/x\n",
    "x == z, x is z, x, z"
   ]
  },
  {
   "cell_type": "code",
   "execution_count": 5,
   "metadata": {},
   "outputs": [
    {
     "data": {
      "text/plain": [
       "(True, True)"
      ]
     },
     "execution_count": 5,
     "metadata": {},
     "output_type": "execute_result"
    }
   ],
   "source": [
    "x = 2\n",
    "y = 4\n",
    "z = 4//x\n",
    "x == z, x is z"
   ]
  },
  {
   "cell_type": "markdown",
   "metadata": {},
   "source": [
    "Recall the difference between **mutable** and **immutable** data types:\n",
    "   - immutable data types are those that cannot be changed after instantiation,\n",
    "   - mutable data types can!"
   ]
  },
  {
   "cell_type": "code",
   "execution_count": 6,
   "metadata": {},
   "outputs": [
    {
     "data": {
      "text/plain": [
       "['Apple', 'grapes', 'pears']"
      ]
     },
     "execution_count": 6,
     "metadata": {},
     "output_type": "execute_result"
    }
   ],
   "source": [
    "fruits = ['apple', 'grapes', 'pears']\n",
    "fruits[0] = 'Apple'\n",
    "fruits"
   ]
  },
  {
   "cell_type": "code",
   "execution_count": 2,
   "metadata": {},
   "outputs": [
    {
     "ename": "TypeError",
     "evalue": "'str' object does not support item assignment",
     "output_type": "error",
     "traceback": [
      "\u001b[0;31m---------------------------------------------------------------------------\u001b[0m",
      "\u001b[0;31mTypeError\u001b[0m                                 Traceback (most recent call last)",
      "\u001b[0;32m<ipython-input-2-7103604a8fa3>\u001b[0m in \u001b[0;36m<module>\u001b[0;34m()\u001b[0m\n\u001b[1;32m      1\u001b[0m \u001b[0mfruits\u001b[0m \u001b[0;34m=\u001b[0m \u001b[0;34m[\u001b[0m\u001b[0;34m'apple'\u001b[0m\u001b[0;34m,\u001b[0m \u001b[0;34m'grapes'\u001b[0m\u001b[0;34m,\u001b[0m \u001b[0;34m'pears'\u001b[0m\u001b[0;34m]\u001b[0m\u001b[0;34m\u001b[0m\u001b[0m\n\u001b[0;32m----> 2\u001b[0;31m \u001b[0mfruits\u001b[0m\u001b[0;34m[\u001b[0m\u001b[0;36m0\u001b[0m\u001b[0;34m]\u001b[0m\u001b[0;34m[\u001b[0m\u001b[0;36m0\u001b[0m\u001b[0;34m]\u001b[0m \u001b[0;34m=\u001b[0m \u001b[0;34m'A'\u001b[0m\u001b[0;34m\u001b[0m\u001b[0m\n\u001b[0m\u001b[1;32m      3\u001b[0m \u001b[0mfruits\u001b[0m\u001b[0;34m\u001b[0m\u001b[0m\n",
      "\u001b[0;31mTypeError\u001b[0m: 'str' object does not support item assignment"
     ]
    }
   ],
   "source": [
    "fruits = ['apple', 'grapes', 'pears']\n",
    "fruits[0][0] = 'A'\n",
    "fruits"
   ]
  },
  {
   "cell_type": "markdown",
   "metadata": {},
   "source": [
    "When handling mutable objects important to note that changing the data stored at a memory location will impact all names bound to that memory location!"
   ]
  },
  {
   "cell_type": "code",
   "execution_count": 8,
   "metadata": {},
   "outputs": [
    {
     "data": {
      "text/plain": [
       "[[1, 2, 3], [1, 2, 3], [1, 2, 3]]"
      ]
     },
     "execution_count": 8,
     "metadata": {},
     "output_type": "execute_result"
    }
   ],
   "source": [
    "x = [1,2,3]\n",
    "y = [x,x,x]\n",
    "y"
   ]
  },
  {
   "cell_type": "code",
   "execution_count": 9,
   "metadata": {},
   "outputs": [
    {
     "data": {
      "text/plain": [
       "[[4, 2, 3], [4, 2, 3], [4, 2, 3]]"
      ]
     },
     "execution_count": 9,
     "metadata": {},
     "output_type": "execute_result"
    }
   ],
   "source": [
    "x[0] = 4\n",
    "y"
   ]
  },
  {
   "cell_type": "code",
   "execution_count": 10,
   "metadata": {},
   "outputs": [
    {
     "data": {
      "text/plain": [
       "([1, 2, 3], [[1, 2, 3], [1, 2, 3], [1, 2, 3]])"
      ]
     },
     "execution_count": 10,
     "metadata": {},
     "output_type": "execute_result"
    }
   ],
   "source": [
    "y[0][0] = 1\n",
    "x, y"
   ]
  },
  {
   "cell_type": "markdown",
   "metadata": {},
   "source": [
    "### Variables in Python: examples to check your understanding!"
   ]
  },
  {
   "cell_type": "code",
   "execution_count": 11,
   "metadata": {},
   "outputs": [
    {
     "name": "stdout",
     "output_type": "stream",
     "text": [
      "0 0\n",
      "0 1\n"
     ]
    }
   ],
   "source": [
    "#%% Variables 101\n",
    "x = 0\n",
    "y = x\n",
    "print(x, y)\n",
    "\n",
    "y = 1\n",
    "print(x, y)"
   ]
  },
  {
   "cell_type": "code",
   "execution_count": 3,
   "metadata": {},
   "outputs": [
    {
     "name": "stdout",
     "output_type": "stream",
     "text": [
      "[0] [0]\n",
      "[0] [0, 1]\n"
     ]
    }
   ],
   "source": [
    "#%% Variables 101\n",
    "x = [0]\n",
    "y = x\n",
    "print(x, y)\n",
    "\n",
    "y = [0, 1]\n",
    "print(x, y)"
   ]
  },
  {
   "cell_type": "code",
   "execution_count": 13,
   "metadata": {},
   "outputs": [
    {
     "name": "stdout",
     "output_type": "stream",
     "text": [
      "[0] [0]\n",
      "[0, 1] [0, 1]\n"
     ]
    }
   ],
   "source": [
    "#%% Variables 101\n",
    "x = [0]\n",
    "y = x\n",
    "print(x, y)\n",
    "\n",
    "y.append(1)\n",
    "print(x, y)"
   ]
  },
  {
   "cell_type": "code",
   "execution_count": 14,
   "metadata": {},
   "outputs": [
    {
     "name": "stdout",
     "output_type": "stream",
     "text": [
      "[0] [0]\n",
      "[0] [0, 1]\n"
     ]
    }
   ],
   "source": [
    "#%% Variables 101\n",
    "x = [0]\n",
    "y = [0]\n",
    "print(x, y)\n",
    "\n",
    "y.append(1)\n",
    "print(x, y)"
   ]
  },
  {
   "cell_type": "code",
   "execution_count": 15,
   "metadata": {},
   "outputs": [
    {
     "name": "stdout",
     "output_type": "stream",
     "text": [
      "[0, 1, 2] [0, 1, 2]\n"
     ]
    }
   ],
   "source": [
    "#%% Variables 101\n",
    "L1 = [0]\n",
    "L2 = L1\n",
    "\n",
    "L1.append(1)\n",
    "L2.append(2)\n",
    "\n",
    "print(L1, L2)"
   ]
  },
  {
   "cell_type": "code",
   "execution_count": 16,
   "metadata": {},
   "outputs": [
    {
     "name": "stdout",
     "output_type": "stream",
     "text": [
      "[0, 1] [0, 2]\n"
     ]
    }
   ],
   "source": [
    "#%% Variables 101\n",
    "L1 = [0]\n",
    "L2 = L1\n",
    "\n",
    "L1 = L1 + [1]\n",
    "L2 = L2 + [2]\n",
    "\n",
    "print(L1, L2)"
   ]
  },
  {
   "cell_type": "code",
   "execution_count": 17,
   "metadata": {},
   "outputs": [
    {
     "name": "stdout",
     "output_type": "stream",
     "text": [
      "[0, [1, 2, 3]]\n"
     ]
    }
   ],
   "source": [
    "#%% Variables 101\n",
    "L = [0, [1, 2]]\n",
    "\n",
    "inner = L[1]\n",
    "inner.append(3)\n",
    "\n",
    "print(L)"
   ]
  },
  {
   "cell_type": "code",
   "execution_count": 18,
   "metadata": {},
   "outputs": [
    {
     "name": "stdout",
     "output_type": "stream",
     "text": [
      "[0, [...], [2]]\n"
     ]
    }
   ],
   "source": [
    "#%% Variables 101\n",
    "L = [0]\n",
    "\n",
    "L.append(L)\n",
    "L[1].append([2])\n",
    "print(L)\n",
    "# L[1].append(3)\n",
    "# L.append(4)\n",
    "# print(L[1][1][0], L[1][2], L[2])"
   ]
  },
  {
   "cell_type": "markdown",
   "metadata": {},
   "source": [
    "## 2) Basic math operations and some comments on arithmetic error"
   ]
  },
  {
   "cell_type": "code",
   "execution_count": 19,
   "metadata": {},
   "outputs": [
    {
     "data": {
      "text/plain": [
       "156"
      ]
     },
     "execution_count": 19,
     "metadata": {},
     "output_type": "execute_result"
    }
   ],
   "source": [
    "# Linear combinations\n",
    "2*(-3 + 5 -2+78)"
   ]
  },
  {
   "cell_type": "code",
   "execution_count": 20,
   "metadata": {},
   "outputs": [
    {
     "data": {
      "text/plain": [
       "1"
      ]
     },
     "execution_count": 20,
     "metadata": {},
     "output_type": "execute_result"
    }
   ],
   "source": [
    "# Floor division\n",
    "5//4"
   ]
  },
  {
   "cell_type": "code",
   "execution_count": 21,
   "metadata": {},
   "outputs": [
    {
     "data": {
      "text/plain": [
       "1"
      ]
     },
     "execution_count": 21,
     "metadata": {},
     "output_type": "execute_result"
    }
   ],
   "source": [
    "# Modulus\n",
    "5%4"
   ]
  },
  {
   "cell_type": "code",
   "execution_count": 23,
   "metadata": {},
   "outputs": [
    {
     "data": {
      "text/plain": [
       "1"
      ]
     },
     "execution_count": 23,
     "metadata": {},
     "output_type": "execute_result"
    }
   ],
   "source": [
    "# Powers\n",
    "2**3"
   ]
  },
  {
   "cell_type": "code",
   "execution_count": 24,
   "metadata": {},
   "outputs": [
    {
     "data": {
      "text/plain": [
       "0.8000000000000007"
      ]
     },
     "execution_count": 24,
     "metadata": {},
     "output_type": "execute_result"
    }
   ],
   "source": [
    "37.4 % 12.2 # Example from self-study video"
   ]
  },
  {
   "cell_type": "markdown",
   "metadata": {},
   "source": [
    "### Exploring approximation error with a 6 bit calculator\n",
    "Suppose our calculator only has 6 bits (you can think of a bit as a variable which takes value either 0 or 1) in which the first bit represents the sign and all other bits correspond to descending powers of 2, starting at 3. This is an example of a fixed point format. Lets take a few minutes individually to think about the following. We'll then chat each point through with our neighbours, and then go through them as a class\n",
    "   - How many distinct numbers can we represent with this number of bits?\n",
    "   - What is the smallest number that can be represented?\n",
    "   - What is the largest number?\n",
    "   - Which representation best approximates 1/2? Is there an approximation error?\n",
    "   - Which representation best approximates 10/16? Is there an approximation error?\n",
    "   - If we try to carry out 10/32 + 11/32 what does our calculator return? "
   ]
  },
  {
   "cell_type": "markdown",
   "metadata": {},
   "source": [
    "### Floating point arithmetic\n",
    "Floating point arithmetic adopts the following convention.\n",
    "$$\n",
    "significand \\times base^{exponent}\n",
    "$$\n",
    "Example: $1.2345 = 12345 \\times 10^{-4}$\n",
    "\n",
    "Floating point is fairly ubiquitious and well standardised. Consists of two fixed point representations (each with a signed bit), the significand and the exponent. IEEE floating point representations:\n",
    " - 32 bit: 24 bit significand, 8 bit exponent\n",
    " - 64 bit: 53 bit significand, 11 bit exponent \n",
    "\n",
    "Questions:\n",
    "   - Why do you think it is called floating point as opposed to the fixed point example we gave above?\n",
    "   - What is the key benefit of floating point over fixed?\n",
    "\n",
    "\n",
    "This is not a course in scientific computing! So we will not discuss this in anymore detail other than to highlight a few common mistakes / traps."
   ]
  },
  {
   "cell_type": "code",
   "execution_count": 25,
   "metadata": {},
   "outputs": [
    {
     "name": "stdout",
     "output_type": "stream",
     "text": [
      "0.100000000000000006\n"
     ]
    }
   ],
   "source": [
    "print('{0:.18f}'.format(0.1)) # Representation or approximation errors are common but small! Treat floats as noisy representations"
   ]
  },
  {
   "cell_type": "code",
   "execution_count": 28,
   "metadata": {},
   "outputs": [
    {
     "data": {
      "text/plain": [
       "True"
      ]
     },
     "execution_count": 28,
     "metadata": {},
     "output_type": "execute_result"
    }
   ],
   "source": [
    "0.1+0.1+0.1 == 0.3 # Because of this be careful using logical statements like == on floats!\n",
    "tol = 10**-8\n",
    "abs(0.1+0.1+0.1  - 0.3 )< tol"
   ]
  },
  {
   "cell_type": "code",
   "execution_count": 29,
   "metadata": {},
   "outputs": [
    {
     "data": {
      "text/plain": [
       "True"
      ]
     },
     "execution_count": 29,
     "metadata": {},
     "output_type": "execute_result"
    }
   ],
   "source": [
    "tol = 1e-10 # If you do need to do logical checks then best to set and use a tolerance\n",
    "abs(0.1+0.1+0.1 - 0.3) < tol"
   ]
  },
  {
   "cell_type": "code",
   "execution_count": 30,
   "metadata": {},
   "outputs": [
    {
     "name": "stdout",
     "output_type": "stream",
     "text": [
      "99.900000000000005684\n"
     ]
    }
   ],
   "source": [
    "print('{0:.18f}'.format(0.1*999)) # Be careful, errors can accumulate!"
   ]
  },
  {
   "cell_type": "markdown",
   "metadata": {},
   "source": [
    "## 3 ) Manipulating strings"
   ]
  },
  {
   "cell_type": "code",
   "execution_count": 31,
   "metadata": {},
   "outputs": [],
   "source": [
    "# Declaring a string\n",
    "s = 'calculating pythons'"
   ]
  },
  {
   "cell_type": "code",
   "execution_count": 32,
   "metadata": {},
   "outputs": [
    {
     "data": {
      "text/plain": [
       "'a'"
      ]
     },
     "execution_count": 32,
     "metadata": {},
     "output_type": "execute_result"
    }
   ],
   "source": [
    "# Accessing entries of a string\n",
    "s[1]"
   ]
  },
  {
   "cell_type": "code",
   "execution_count": 35,
   "metadata": {},
   "outputs": [
    {
     "data": {
      "text/plain": [
       "'calcula'"
      ]
     },
     "execution_count": 35,
     "metadata": {},
     "output_type": "execute_result"
    }
   ],
   "source": [
    "# Accessing every kth entry\n",
    "s[0:7:1]"
   ]
  },
  {
   "cell_type": "code",
   "execution_count": null,
   "metadata": {},
   "outputs": [],
   "source": [
    "# Reversing order of a string\n",
    "s[::-1]"
   ]
  },
  {
   "cell_type": "code",
   "execution_count": 36,
   "metadata": {},
   "outputs": [
    {
     "data": {
      "text/plain": [
       "['calculating', 'pythons']"
      ]
     },
     "execution_count": 36,
     "metadata": {},
     "output_type": "execute_result"
    }
   ],
   "source": [
    "# STRING METHODS\n",
    "# capitalise / lower case / upper case\n",
    "# print(s.upper())\n",
    "# count occurence of characters and phrases\n",
    "s.count('l')\n",
    "# find the location of a string (first time appears)\n",
    "s.index('at')\n",
    "# strip white spaces at the end\n",
    "s.strip()\n",
    "# split into a list\n",
    "s.split()"
   ]
  },
  {
   "cell_type": "markdown",
   "metadata": {},
   "source": [
    "## Questions?"
   ]
  },
  {
   "cell_type": "code",
   "execution_count": null,
   "metadata": {},
   "outputs": [],
   "source": []
  }
 ],
 "metadata": {
  "kernelspec": {
   "display_name": "Python 3",
   "language": "python",
   "name": "python3"
  },
  "language_info": {
   "codemirror_mode": {
    "name": "ipython",
    "version": 3
   },
   "file_extension": ".py",
   "mimetype": "text/x-python",
   "name": "python",
   "nbconvert_exporter": "python",
   "pygments_lexer": "ipython3",
   "version": "3.6.5"
  }
 },
 "nbformat": 4,
 "nbformat_minor": 4
}
