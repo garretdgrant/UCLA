{
 "cells": [
  {
   "cell_type": "markdown",
   "metadata": {},
   "source": [
    "# Namespaces, arguments and exceptions \n",
    "In this lecture we will review the tutorials covering namespaces, input arguments and exceptions. Before we start a quick quiz (true or false) to cover some of the basic principles!\n",
    "\n",
    "1) If I define a variable in my main program then it will appear in my global namespace *TRUE*\n",
    "\n",
    "2) If I define a variable inside a function then it will appear in my global namespace *FALSE*\n",
    "\n",
    "3) Local and global variables with the same name cannot coexist *FALSE*\n",
    "\n",
    "4) Namespaces help modularise your code, typically making it more robust and easy to debug *TRUE*\n",
    "\n",
    "5) When resolving variable names Python searches namespaces in the order Local then any Enclosing then Global then Built-in. *TRUE*\n",
    "\n",
    "6) Function arguments are local variables bound to the same location in memory as the variable or literal they are assigned. *TRUE*\n",
    "\n",
    "7) If you want update a variable referencing mutable data it is typically better to perform the mutation inside of a function. *FALSE*\n",
    "\n",
    "8) If you want avoid updating a mutable variable it is always best to just copy the data into a new variable *FALSE*\n",
    "\n",
    "9) An exception is raised when Python understands what you are trying to do but what you are trying to do does not make sense. *TRUE*\n",
    "\n",
    "10) Dividing by zero is an example of a type error in Python. *FALSE, is its own thing, but closer to value*"
   ]
  },
  {
   "cell_type": "markdown",
   "metadata": {},
   "source": [
    "## Review of namespaces"
   ]
  },
  {
   "cell_type": "code",
   "execution_count": null,
   "metadata": {},
   "outputs": [],
   "source": [
    "# How do you access the global namespace?\n",
    "x = 10\n",
    "globals()\n",
    "\n",
    "# What happens if you call locals() in the main program?\n",
    "locals()\n",
    "\n",
    "# How do you access the value of a variable through the command above?\n",
    "globals()['x']"
   ]
  },
  {
   "cell_type": "code",
   "execution_count": null,
   "metadata": {},
   "outputs": [],
   "source": [
    "# What does the following command return?\n",
    "x = 1\n",
    "y = 2\n",
    "z = 3\n",
    "\n",
    "def f(x,y):\n",
    "    locals()\n",
    "    print(x,y,z)\n",
    "\n",
    "f(y,x)    "
   ]
  },
  {
   "cell_type": "code",
   "execution_count": null,
   "metadata": {},
   "outputs": [],
   "source": [
    "# What is the output of the following?\n",
    "x = 1\n",
    "\n",
    "def my_function():\n",
    "    y = 1\n",
    "    globals()['x'] = 2\n",
    "    globals()['y'] = 4\n",
    "    x = 0\n",
    "    y = 0\n",
    "    \n",
    "my_function()\n",
    "x,y\n"
   ]
  },
  {
   "cell_type": "code",
   "execution_count": null,
   "metadata": {},
   "outputs": [],
   "source": [
    "x = 1\n",
    "y = 2\n",
    "z = 3\n",
    "\n",
    "def f1():\n",
    "    \n",
    "    def f2(z):\n",
    "        w = 4\n",
    "        return w*z\n",
    "        \n",
    "    def f3(x):\n",
    "        w = 5    \n",
    "        def f4(y):\n",
    "            return w*y\n",
    "        \n",
    "        return f2(f4(x))\n",
    "    \n",
    "    return(f3(f2(z)))\n",
    "\n",
    "print(f1())          "
   ]
  },
  {
   "cell_type": "markdown",
   "metadata": {},
   "source": [
    "## Review of functions and input arguments"
   ]
  },
  {
   "cell_type": "code",
   "execution_count": 1,
   "metadata": {},
   "outputs": [
    {
     "ename": "IndexError",
     "evalue": "list index out of range",
     "output_type": "error",
     "traceback": [
      "\u001b[0;31m---------------------------------------------------------------------------\u001b[0m",
      "\u001b[0;31mIndexError\u001b[0m                                Traceback (most recent call last)",
      "\u001b[0;32m<ipython-input-1-078aac536a71>\u001b[0m in \u001b[0;36m<module>\u001b[0;34m\u001b[0m\n\u001b[1;32m     13\u001b[0m     \u001b[0;32mreturn\u001b[0m \u001b[0mx\u001b[0m\u001b[0;34m\u001b[0m\u001b[0;34m\u001b[0m\u001b[0m\n\u001b[1;32m     14\u001b[0m \u001b[0;34m\u001b[0m\u001b[0m\n\u001b[0;32m---> 15\u001b[0;31m \u001b[0mclean_x\u001b[0m \u001b[0;34m=\u001b[0m \u001b[0mremove_outliers\u001b[0m\u001b[0;34m(\u001b[0m\u001b[0mx\u001b[0m\u001b[0;34m,\u001b[0m \u001b[0;36m2\u001b[0m\u001b[0;34m)\u001b[0m\u001b[0;34m\u001b[0m\u001b[0;34m\u001b[0m\u001b[0m\n\u001b[0m",
      "\u001b[0;32m<ipython-input-1-078aac536a71>\u001b[0m in \u001b[0;36mremove_outliers\u001b[0;34m(x, thresh_factor)\u001b[0m\n\u001b[1;32m      9\u001b[0m     \u001b[0mmedian\u001b[0m \u001b[0;34m=\u001b[0m \u001b[0mnp\u001b[0m\u001b[0;34m.\u001b[0m\u001b[0mmedian\u001b[0m\u001b[0;34m(\u001b[0m\u001b[0mx\u001b[0m\u001b[0;34m)\u001b[0m\u001b[0;34m\u001b[0m\u001b[0;34m\u001b[0m\u001b[0m\n\u001b[1;32m     10\u001b[0m     \u001b[0;32mfor\u001b[0m \u001b[0mi\u001b[0m \u001b[0;32min\u001b[0m \u001b[0mrange\u001b[0m\u001b[0;34m(\u001b[0m\u001b[0mlen\u001b[0m\u001b[0;34m(\u001b[0m\u001b[0mx\u001b[0m\u001b[0;34m)\u001b[0m\u001b[0;34m)\u001b[0m\u001b[0;34m:\u001b[0m\u001b[0;34m\u001b[0m\u001b[0;34m\u001b[0m\u001b[0m\n\u001b[0;32m---> 11\u001b[0;31m         \u001b[0;32mif\u001b[0m \u001b[0mx\u001b[0m\u001b[0;34m[\u001b[0m\u001b[0mi\u001b[0m\u001b[0;34m]\u001b[0m \u001b[0;34m>\u001b[0m \u001b[0mthresh_factor\u001b[0m\u001b[0;34m*\u001b[0m\u001b[0mmedian\u001b[0m\u001b[0;34m:\u001b[0m\u001b[0;34m\u001b[0m\u001b[0;34m\u001b[0m\u001b[0m\n\u001b[0m\u001b[1;32m     12\u001b[0m             \u001b[0mx\u001b[0m\u001b[0;34m.\u001b[0m\u001b[0mpop\u001b[0m\u001b[0;34m(\u001b[0m\u001b[0mi\u001b[0m\u001b[0;34m)\u001b[0m\u001b[0;34m\u001b[0m\u001b[0;34m\u001b[0m\u001b[0m\n\u001b[1;32m     13\u001b[0m     \u001b[0;32mreturn\u001b[0m \u001b[0mx\u001b[0m\u001b[0;34m\u001b[0m\u001b[0;34m\u001b[0m\u001b[0m\n",
      "\u001b[0;31mIndexError\u001b[0m: list index out of range"
     ]
    }
   ],
   "source": [
    "# What is wrong with the following function?\n",
    "# Can you re-write the following outlier removal function as a pure function\n",
    "import numpy as np\n",
    "x = list(np.random.rand(10))\n",
    "x[2] *=10\n",
    "x[8] *=10\n",
    "\n",
    "def remove_outliers(x, thresh_factor):\n",
    "    median = np.median(x)\n",
    "    for i in range(len(x)):\n",
    "        if x[i] > thresh_factor*median:\n",
    "            x.pop(i)\n",
    "    return x\n",
    "\n",
    "clean_x = remove_outliers(x, 2)\n"
   ]
  },
  {
   "cell_type": "code",
   "execution_count": 2,
   "metadata": {},
   "outputs": [
    {
     "name": "stdout",
     "output_type": "stream",
     "text": [
      "[0.3527568579378345, 0.3747053736655488, 1.3789852618800258, 0.05886052144563103, 0.09279523066055673, 0.4099427414608301, 0.15476188699082516, 0.2525926171397527, 1.3434481403405985, 0.01757889311627847]\n",
      "0.3026747375387936\n",
      "Clean x:\n",
      "[0.3527568579378345, 0.3747053736655488, 0.05886052144563103, 0.09279523066055673, 0.4099427414608301, 0.15476188699082516, 0.2525926171397527, 0.01757889311627847]\n"
     ]
    }
   ],
   "source": [
    "import numpy as np\n",
    "x = list(np.random.rand(10))\n",
    "x[2] *=10\n",
    "x[8] *=10\n",
    "print(x)\n",
    "\n",
    "def remove_outliers(x, thresh_factor):\n",
    "    median = np.median(x)\n",
    "    print(median)\n",
    "    return [i for i in x if np.abs(i)<thresh_factor*median]\n",
    "\n",
    "clean_x = remove_outliers(x, 2)\n",
    "print('Clean x:')\n",
    "print(clean_x)"
   ]
  },
  {
   "cell_type": "markdown",
   "metadata": {},
   "source": [
    "### Review exceptions"
   ]
  },
  {
   "cell_type": "code",
   "execution_count": 3,
   "metadata": {},
   "outputs": [
    {
     "name": "stdout",
     "output_type": "stream",
     "text": [
      "What is 3 times 1?blah blah\n",
      "Your answer should be an integer!\n",
      "What is 3 times 1?4.6\n",
      "Your answer should be an integer!\n",
      "What is 3 times 1?8\n",
      "That's not quite right, try again.\n",
      "What is 3 times 1?3\n",
      "Correct!\n"
     ]
    }
   ],
   "source": [
    "# Write a function which robustly prompts the user to multiply two numbers\n",
    "import numpy as np\n",
    "numLow = 1\n",
    "numHigh = 10\n",
    "\n",
    "x = np.random.randint(numLow, numHigh)\n",
    "y = np.random.randint(numLow, numHigh)\n",
    "\n",
    "while True:\n",
    "    try:\n",
    "        user_input = int(input('What is ' + str(x) + ' times ' + str(y) + '?'))\n",
    "        if user_input != int(x*y):\n",
    "            print('That\\'s not quite right, try again.')\n",
    "        else:\n",
    "            print('Correct!') \n",
    "            break\n",
    "    except ValueError:\n",
    "        print('Your answer should be an integer!')\n",
    "        continue\n",
    "        \n"
   ]
  },
  {
   "cell_type": "code",
   "execution_count": 3,
   "metadata": {},
   "outputs": [
    {
     "data": {
      "text/plain": [
       "5"
      ]
     },
     "execution_count": 3,
     "metadata": {},
     "output_type": "execute_result"
    }
   ],
   "source": [
    "int('5')"
   ]
  },
  {
   "cell_type": "code",
   "execution_count": null,
   "metadata": {},
   "outputs": [],
   "source": []
  }
 ],
 "metadata": {
  "kernelspec": {
   "display_name": "Python 3 (ipykernel)",
   "language": "python",
   "name": "python3"
  },
  "language_info": {
   "codemirror_mode": {
    "name": "ipython",
    "version": 3
   },
   "file_extension": ".py",
   "mimetype": "text/x-python",
   "name": "python",
   "nbconvert_exporter": "python",
   "pygments_lexer": "ipython3",
   "version": "3.9.12"
  }
 },
 "nbformat": 4,
 "nbformat_minor": 5
}
