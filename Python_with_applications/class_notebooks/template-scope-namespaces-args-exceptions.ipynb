{
 "cells": [
  {
   "cell_type": "markdown",
   "metadata": {},
   "source": [
    "# Namespaces, arguments and exceptions \n",
    "In this lecture we will review the tutorials covering namespaces, input arguments and exceptions. Before we start a quick quiz (true or false) to cover some of the basic principles!\n",
    "\n",
    "1) If I define a variable in my main program then it will appear in my global namespace\n",
    "\n",
    "2) If I define a variable inside a function then it will appear in my global namespace\n",
    "\n",
    "3) Local and global variables with the same name cannot coexist\n",
    "\n",
    "4) Namespaces help modularise your code, typically making it more robust and easy to debug\n",
    "\n",
    "5) When resolving variable names Python searches namespaces in the order Local then any Enclosing then Global then Built-in.\n",
    "\n",
    "6) Function arguments are local variables bound to the same location in memory as the variable or literal they are assigned.\n",
    "\n",
    "7) If you want update a variable referencing mutable data it is typically better to perform the mutation inside of a function.\n",
    "\n",
    "8) If you want avoid updating a mutable variable it is always best to just copy the data into a new variable\n",
    "\n",
    "9) An exception is raised when Python understands what you are trying to do but what you are trying to do does not make sense.\n",
    "\n",
    "10) Dividing by zero is an example of a type error in Python."
   ]
  },
  {
   "cell_type": "markdown",
   "metadata": {},
   "source": [
    "## Review of namespaces"
   ]
  },
  {
   "cell_type": "code",
   "execution_count": null,
   "metadata": {},
   "outputs": [],
   "source": [
    "# How do you access the global namespace?\n",
    "x = 10\n",
    "globals()\n",
    "\n",
    "# What happens if you call locals() in the main program?\n",
    "locals()\n",
    "\n",
    "# How do you access the value of a variable through the command above?\n",
    "globals()['x']"
   ]
  },
  {
   "cell_type": "code",
   "execution_count": null,
   "metadata": {},
   "outputs": [],
   "source": [
    "# What does the following command return?\n",
    "x = 1\n",
    "y = 2\n",
    "z = 3\n",
    "\n",
    "def f(x,y):\n",
    "    locals()\n",
    "    print(x,y,z)\n",
    "\n",
    "f(y,x)    "
   ]
  },
  {
   "cell_type": "code",
   "execution_count": null,
   "metadata": {},
   "outputs": [],
   "source": [
    "# What is the output of the following?\n",
    "x = 1\n",
    "\n",
    "def my_function():\n",
    "    y = 1\n",
    "    globals()['x'] = 2\n",
    "    globals()['y'] = 4\n",
    "    x = 0\n",
    "    y = 0\n",
    "    \n",
    "my_function()\n",
    "x,y\n"
   ]
  },
  {
   "cell_type": "code",
   "execution_count": null,
   "metadata": {},
   "outputs": [],
   "source": [
    "x = 1\n",
    "y = 2\n",
    "z = 3\n",
    "\n",
    "def f1():\n",
    "    \n",
    "    def f2(z):\n",
    "        w = 4\n",
    "        return w*z\n",
    "        \n",
    "    def f3(x):\n",
    "        w = 5    \n",
    "        def f4(y):\n",
    "            return w*y\n",
    "        \n",
    "        return f2(f4(x))\n",
    "    \n",
    "    return(f3(f2(z)))\n",
    "\n",
    "print(f1())          "
   ]
  },
  {
   "cell_type": "markdown",
   "metadata": {},
   "source": [
    "## Review of functions and input arguments"
   ]
  },
  {
   "cell_type": "code",
   "execution_count": null,
   "metadata": {},
   "outputs": [],
   "source": [
    "# What is wrong with the following function?\n",
    "# Can you re-write the following outlier removal function as a pure function\n",
    "import numpy as np\n",
    "x = list(np.random.rand(10))\n",
    "x[2] *=10\n",
    "x[8] *=10\n",
    "\n",
    "def remove_outliers(x, thresh_factor):\n",
    "    median = np.median(x)\n",
    "    for i in range(len(x)):\n",
    "        if x[i] > thresh_factor*median:\n",
    "            x.pop(i)\n",
    "    return x\n",
    "\n",
    "clean_x = remove_outliers(x, 2)\n"
   ]
  },
  {
   "cell_type": "code",
   "execution_count": null,
   "metadata": {},
   "outputs": [],
   "source": [
    "# Write your version here...\n"
   ]
  },
  {
   "cell_type": "markdown",
   "metadata": {},
   "source": [
    "### Review exceptions"
   ]
  },
  {
   "cell_type": "code",
   "execution_count": null,
   "metadata": {},
   "outputs": [],
   "source": [
    "# Write a function which robustly prompts the user to correctly multiply two randomly generated numbers x and y\n",
    "# If they get the answer wrong, prompt them to try again until they succeed!\n",
    "import numpy as np\n",
    "numLow = 1\n",
    "numHigh = 10\n",
    "\n",
    "x = np.random.randint(numLow, numHigh)\n",
    "y = np.random.randint(numLow, numHigh)\n"
   ]
  }
 ],
 "metadata": {
  "kernelspec": {
   "display_name": "Python 3 (ipykernel)",
   "language": "python",
   "name": "python3"
  },
  "language_info": {
   "codemirror_mode": {
    "name": "ipython",
    "version": 3
   },
   "file_extension": ".py",
   "mimetype": "text/x-python",
   "name": "python",
   "nbconvert_exporter": "python",
   "pygments_lexer": "ipython3",
   "version": "3.9.12"
  }
 },
 "nbformat": 4,
 "nbformat_minor": 5
}
