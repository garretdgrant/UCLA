{
 "cells": [
  {
   "cell_type": "markdown",
   "metadata": {},
   "source": [
    "# First Steps: Data Types, Lists, and Built-In Functions\n",
    "\n",
    "## Group Names and Roles\n",
    "\n",
    "- Garret Grant\n",
    "- Partner 2 (Role)\n",
    "- Partner 3 (Role)\n",
    "\n",
    "Don't forget to *rotate your roles*. The Driver from last time is now the Proposer, the Proposer from last time is now the Reviewer, and the Reviewer from last time is now the Driver. \n",
    "\n",
    "Remember, completing the worksheet is great for your understanding but not necessary to receive a full participation grade in Discussion. Whatever you are able to achieve in the Discussion section will usually be fine. That said, you are heartily encouraged to make additional time to complete any parts that you may not have gotten to during the scheduled Discussion. "
   ]
  },
  {
   "cell_type": "markdown",
   "metadata": {},
   "source": [
    "## Introduction\n",
    "\n",
    "The purpose of this Discussion activity is to (gently) help you get up to speed writing Python code in a group format . You might want to take a moment to consult the [expectations for group work](https://philchodrow.github.io/PIC16A/groups/). A quick review: \n",
    "\n",
    "1. **Remember that you should be actively discussing each problem with each other.** You should not be dividing the problems up among yourselves; each of you has a role to play in each problem. \n",
    "2. Unless there is a specific reason, **your video should be on.** This is about courtesy toward your group members. Feel free to use a virtual background if you'd rather not show your surroundings. \n",
    "3. You should **never be muted** unless there is disruptive noise in your environment. \n",
    "\n",
    "Please pay special attention to Problem 1, as it illustrates some important theoretical points which can help you if you run into bugs later in the course. \n",
    "\n",
    "Don't rush through this worksheet and copypaste everything I wrote into the code cells -- just read it and type it in yourself, because that will help you remember the syntax. Don't split up the worksheets and do the parts independently -- this would miss the point, which is to teach you enough for the exams in a sequential manner. Working through them productively (in a way that makes you learn something) is more important than finishing every problem."
   ]
  },
  {
   "cell_type": "markdown",
   "metadata": {},
   "source": [
    "## § Problem 1: Variables and Objects in Python"
   ]
  },
  {
   "cell_type": "markdown",
   "metadata": {},
   "source": [
    "When you learned C++, you learned that a given variable had to stay the same type for an entire program. That is, if you had an int named x in the beginning of your program, x had to stay an int for the entire program. The story is much different in python. In this exercise, we will explore these difference.\n",
    "\n",
    "*a)* In the code cell below, write the three lines:\n",
    "```python\n",
    "x = 2\n",
    "x = [5]\n",
    "x = \"a\"\n",
    "```\n",
    "**Print the value of `x` after each line.** Run the cell. Try running it multiple times. Observe the output. In a few words, what does this tell you about what happens, in terms of objects and variables? Write your answer in the space below the code cell. If you had known nothing about python, would you have expected this code to work based on your knowledge of C++?"
   ]
  },
  {
   "cell_type": "code",
   "execution_count": 1,
   "metadata": {},
   "outputs": [
    {
     "name": "stdout",
     "output_type": "stream",
     "text": [
      "2\n",
      "[5]\n",
      "a\n"
     ]
    }
   ],
   "source": [
    "# code here\n",
    "x = 2\n",
    "print(x)\n",
    "x = [5]\n",
    "print(x)\n",
    "x = \"a\"\n",
    "print(x)"
   ]
  },
  {
   "cell_type": "markdown",
   "metadata": {},
   "source": [
    "I would not expect this code to work in C++ as we are changing the data type of variable x. "
   ]
  },
  {
   "cell_type": "markdown",
   "metadata": {},
   "source": [
    "*b)* Now write the three lines:\n",
    "```python\n",
    "y = [1, 2, 3]\n",
    "y[0] = 8\n",
    "y.sort()\n",
    "```\n",
    "Print the value and `id()` of `y` after each line. What does this tell you about what happens, in terms of objects and variables?"
   ]
  },
  {
   "cell_type": "code",
   "execution_count": 2,
   "metadata": {},
   "outputs": [
    {
     "name": "stdout",
     "output_type": "stream",
     "text": [
      "[1, 2, 3] 140240885539464\n",
      "[8, 2, 3] 140240885539464\n",
      "[2, 3, 8] 140240885539464\n"
     ]
    }
   ],
   "source": [
    "# code here\n",
    "y = [1, 2, 3]\n",
    "print(y, id(y))\n",
    "y[0] = 8\n",
    "print(y, id(y))\n",
    "y.sort()\n",
    "print(y, id(y))\n"
   ]
  },
  {
   "cell_type": "markdown",
   "metadata": {},
   "source": [
    "The location in memory is not changing as we mutate the list. "
   ]
  },
  {
   "cell_type": "markdown",
   "metadata": {},
   "source": [
    "*c)* Write the four lines:\n",
    "```python\n",
    "a = 0\n",
    "b = a\n",
    "a += 1\n",
    "a += 2\n",
    "```\n",
    "After each line, print `a`, `b`, and their identities (once they've been defined). Is this the same as what you might have expected based on your previous programming experience in a language such as C++? "
   ]
  },
  {
   "cell_type": "code",
   "execution_count": 3,
   "metadata": {},
   "outputs": [
    {
     "name": "stdout",
     "output_type": "stream",
     "text": [
      "0\n",
      "a: 0 b: 0 id(a): 94421944367616 id:(b) 94421944367616\n",
      "a: 1 b: 0 id(a): 94421944367648 id:(b) 94421944367616\n",
      "a: 3 b: 0 id(a): 94421944367712 id:(b) 94421944367616\n"
     ]
    }
   ],
   "source": [
    "# code here\n",
    "a = 0\n",
    "print(a)\n",
    "b = a\n",
    "print('a:', a, 'b:',b, 'id(a):', id(a), 'id:(b)', id(b))\n",
    "a += 1\n",
    "print('a:', a, 'b:',b, 'id(a):', id(a), 'id:(b)', id(b))\n",
    "a += 2\n",
    "print('a:', a, 'b:',b, 'id(a):', id(a), 'id:(b)', id(b))"
   ]
  },
  {
   "cell_type": "markdown",
   "metadata": {},
   "source": [
    "b was assigned the memory location of a, a was reassigned a new memory location after each step."
   ]
  },
  {
   "cell_type": "markdown",
   "metadata": {},
   "source": [
    "*d)* Write the four lines:\n",
    "```python\n",
    "c = [0, 1, 2]\n",
    "d = c\n",
    "c += [3]\n",
    "c += [4, 5]\n",
    "```\n",
    "After each line, print `c`, `d`, and their identities (once they've been defined). Is this the same as what you might have expected based on your previous programming experience in a language such as C++? How does it differ from your answer to the previous part? (It might help to google the phrase `mutable variable'.)"
   ]
  },
  {
   "cell_type": "code",
   "execution_count": 4,
   "metadata": {},
   "outputs": [
    {
     "name": "stdout",
     "output_type": "stream",
     "text": [
      "c: [0, 1, 2] d: [0, 1, 2] id(c): 140240885525640 id(d): 140240885525640\n",
      "c: [0, 1, 2, 3] d: [0, 1, 2, 3] id(c): 140240885525640 id(d): 140240885525640\n",
      "c: [0, 1, 2, 3, 4, 5] d: [0, 1, 2, 3, 4, 5] id(c): 140240885525640 id(d): 140240885525640\n"
     ]
    }
   ],
   "source": [
    "# code here\n",
    "c = [0, 1, 2]\n",
    "d = c\n",
    "print('c:', c, 'd:', d, 'id(c):', id(c), 'id(d):', id(d))\n",
    "c += [3]\n",
    "print('c:', c, 'd:', d, 'id(c):', id(c), 'id(d):', id(d))\n",
    "c += [4, 5]\n",
    "print('c:', c, 'd:', d, 'id(c):', id(c), 'id(d):', id(d))\n"
   ]
  },
  {
   "cell_type": "markdown",
   "metadata": {},
   "source": [
    "D was assigned the memory location of c, since we were mutating c and not reassigning its memory location, d was also being changed, kind of, really its just the same location in memory that c and d are pointing at. "
   ]
  },
  {
   "cell_type": "markdown",
   "metadata": {},
   "source": [
    "**Pause.** Review each of your answers and check that each member of the group is comfortable with each one. "
   ]
  },
  {
   "cell_type": "markdown",
   "metadata": {},
   "source": [
    "## § Problem 2: List and String Slicing"
   ]
  },
  {
   "cell_type": "markdown",
   "metadata": {},
   "source": [
    "This problem will ask you to create your own code cells. Recall that you can do so by highlighting the cell below which you want to add a new one, and then use the `+` sign in the toolbar. Even better, press `b` when the cell is highlighted (works in Jupyter Notebook, not Jupyter Lab). \n",
    "\n",
    "### Part (A)\n",
    "\n",
    "Add a code cell below this one. In that cell, assign  the string `\"string\"` to a new variable named `s`. Then run the cell. \n",
    "\n",
    "For each of the following items, **first guess what the output should be** and discuss with your group. After you come to conensus, add a new code cell, run the corresponding item inside it, and compare your guess with the output:\n",
    "\n",
    "```python\n",
    "s[2]\n",
    "s[-2]\n",
    "s[:4]\n",
    "s[4:]\n",
    "s[1:5]\n",
    "s[:]\n",
    "s[2:-1]\n",
    "s[::2]\n",
    "```\n",
    "\n",
    "Make sure you run each of these in a separate cell, and don't clear the output -- else we won't know that you did the work.\n",
    "\n",
    "Discuss in your group which of these would also work the same way if we had declared `s` to be a list (of the same length). Write your hypothesis in a new *markdown* cell below. (Markdown cells like this one don't run their contents through the Python interpreter -- they just display nicely whatever you put inside them. Use the drop-down menu in the toolbar to turn a code cell into a markdown cell. Double-click a markdown cell to edit it, and run it like you would a code cell.) "
   ]
  },
  {
   "cell_type": "code",
   "execution_count": 5,
   "metadata": {},
   "outputs": [],
   "source": [
    "s = 'string'"
   ]
  },
  {
   "cell_type": "code",
   "execution_count": 6,
   "metadata": {},
   "outputs": [
    {
     "data": {
      "text/plain": [
       "'r'"
      ]
     },
     "execution_count": 6,
     "metadata": {},
     "output_type": "execute_result"
    }
   ],
   "source": [
    "s[2] #guess is r"
   ]
  },
  {
   "cell_type": "code",
   "execution_count": 7,
   "metadata": {},
   "outputs": [
    {
     "data": {
      "text/plain": [
       "'n'"
      ]
     },
     "execution_count": 7,
     "metadata": {},
     "output_type": "execute_result"
    }
   ],
   "source": [
    "s[-2] #guess is n"
   ]
  },
  {
   "cell_type": "code",
   "execution_count": 8,
   "metadata": {},
   "outputs": [
    {
     "data": {
      "text/plain": [
       "'stri'"
      ]
     },
     "execution_count": 8,
     "metadata": {},
     "output_type": "execute_result"
    }
   ],
   "source": [
    "s[:4] #guess is stri"
   ]
  },
  {
   "cell_type": "code",
   "execution_count": 9,
   "metadata": {},
   "outputs": [
    {
     "data": {
      "text/plain": [
       "'ng'"
      ]
     },
     "execution_count": 9,
     "metadata": {},
     "output_type": "execute_result"
    }
   ],
   "source": [
    "s[4:] #guess is ng"
   ]
  },
  {
   "cell_type": "code",
   "execution_count": 10,
   "metadata": {},
   "outputs": [
    {
     "data": {
      "text/plain": [
       "'string'"
      ]
     },
     "execution_count": 10,
     "metadata": {},
     "output_type": "execute_result"
    }
   ],
   "source": [
    "s[:] #guess is string"
   ]
  },
  {
   "cell_type": "code",
   "execution_count": 11,
   "metadata": {},
   "outputs": [
    {
     "data": {
      "text/plain": [
       "'rin'"
      ]
     },
     "execution_count": 11,
     "metadata": {},
     "output_type": "execute_result"
    }
   ],
   "source": [
    "s[2:-1] #guess is rin"
   ]
  },
  {
   "cell_type": "code",
   "execution_count": 12,
   "metadata": {},
   "outputs": [
    {
     "data": {
      "text/plain": [
       "'srn'"
      ]
     },
     "execution_count": 12,
     "metadata": {},
     "output_type": "execute_result"
    }
   ],
   "source": [
    "s[::2] #guess is srn"
   ]
  },
  {
   "cell_type": "code",
   "execution_count": 13,
   "metadata": {},
   "outputs": [
    {
     "data": {
      "text/plain": [
       "'gnirts'"
      ]
     },
     "execution_count": 13,
     "metadata": {},
     "output_type": "execute_result"
    }
   ],
   "source": [
    "# for fun to reverse the string\n",
    "s[::-1]"
   ]
  },
  {
   "cell_type": "markdown",
   "metadata": {},
   "source": [
    "## Part (B) \n",
    "\n",
    "Based on what you know about strings, what do you think will happen if you run the two lines:\n",
    "```python\n",
    "s[1] = 'p'\n",
    "print(s)\n",
    "```\n",
    "Add one new cell right below this one with both lines, and run it to test your hypothesis. As always, keep the output so that we see your work.\n",
    "\n",
    "Discuss in your group what would happen if we had declared `s` to be a list of the same length (for instance, the list `[1, 2, 3, 4, 5, 6]`) and ran the same code. Write your hypothesis in a new markdown cell below."
   ]
  },
  {
   "cell_type": "code",
   "execution_count": 14,
   "metadata": {},
   "outputs": [
    {
     "ename": "TypeError",
     "evalue": "'str' object does not support item assignment",
     "output_type": "error",
     "traceback": [
      "\u001b[0;31m---------------------------------------------------------------------------\u001b[0m",
      "\u001b[0;31mTypeError\u001b[0m                                 Traceback (most recent call last)",
      "\u001b[0;32m<ipython-input-14-bf72c7d1e0d7>\u001b[0m in \u001b[0;36m<module>\u001b[0;34m()\u001b[0m\n\u001b[1;32m      1\u001b[0m \u001b[0;31m# string is immutable\u001b[0m\u001b[0;34m\u001b[0m\u001b[0;34m\u001b[0m\u001b[0m\n\u001b[0;32m----> 2\u001b[0;31m \u001b[0ms\u001b[0m\u001b[0;34m[\u001b[0m\u001b[0;36m1\u001b[0m\u001b[0;34m]\u001b[0m \u001b[0;34m=\u001b[0m \u001b[0;34m'p'\u001b[0m\u001b[0;34m\u001b[0m\u001b[0m\n\u001b[0m\u001b[1;32m      3\u001b[0m \u001b[0mprint\u001b[0m\u001b[0;34m(\u001b[0m\u001b[0ms\u001b[0m\u001b[0;34m)\u001b[0m\u001b[0;34m\u001b[0m\u001b[0m\n",
      "\u001b[0;31mTypeError\u001b[0m: 'str' object does not support item assignment"
     ]
    }
   ],
   "source": [
    "# string is immutable \n",
    "s[1] = 'p'\n",
    "print(s)"
   ]
  },
  {
   "cell_type": "markdown",
   "metadata": {},
   "source": [
    "## Part (C)\n",
    "\n",
    "Take a moment to review string indexing. Edit the next cell to fill in the missing positive and negative index labels. Don't forget to render the cell. "
   ]
  },
  {
   "cell_type": "markdown",
   "metadata": {},
   "source": [
    "```\n",
    "| s | t | r | i | n | g |\n",
    "0   1   2   3   4   5   6    <-- replace these question marks with positive indices\n",
    "-7  -6  -5  -4  -3  -2 -1    <-- add negative indices on this line (use spaces to align)\n",
    "```"
   ]
  },
  {
   "cell_type": "markdown",
   "metadata": {},
   "source": [
    "## § Problem 3: Built-In Functions"
   ]
  },
  {
   "cell_type": "markdown",
   "metadata": {},
   "source": [
    "## Part (A)\n",
    "\n",
    "In the code cell below we have declared two lists. Run this cell now. "
   ]
  },
  {
   "cell_type": "code",
   "execution_count": 16,
   "metadata": {},
   "outputs": [],
   "source": [
    "m1 = [0, 3, 6, 9]\n",
    "m2 = [0, 2, 4, 6]"
   ]
  },
  {
   "cell_type": "markdown",
   "metadata": {},
   "source": [
    "Make a new code cell right below this one. Inside it, define a new list that consists of two copies of `m1` followed by one copy of `m2`. Do not re-type the righthand sides of the `=` signs in the code cell above! Using the same single code cell, perform the following operations on the list, printing the list after each operation:\n",
    "\n",
    "1. Sort this list\n",
    "2. Reverse the resulting list\n",
    "3. Throw out the first value of the list\n",
    "4. Throw out the last three values of the list\n",
    "5. Append the number 5 to the list\n",
    "6. Replace the list with two copies of itself put together (use `=`)\n",
    "7. Sort the list in reverse order (using just one function call)\n",
    "\n",
    "Don't guess what your code will do -- **run the cell regularly** to see what happens! \n",
    "\n",
    "You can find several useful functions in [these lecture notes](https://nbviewer.jupyter.org/github/PhilChodrow/PIC16A/blob/master/content/basics/lists.ipynb). "
   ]
  },
  {
   "cell_type": "code",
   "execution_count": 17,
   "metadata": {},
   "outputs": [
    {
     "name": "stdout",
     "output_type": "stream",
     "text": [
      "[0, 3, 6, 9, 0, 3, 6, 9, 0, 2, 4, 6]\n",
      "[0, 0, 0, 2, 3, 3, 4, 6, 6, 6, 9, 9]\n",
      "[0, 0, 2, 3, 3, 4, 6, 6, 6, 9, 9]\n",
      "[0, 0, 2, 3, 3, 4, 6, 6]\n",
      "[0, 0, 2, 3, 3, 4, 6, 6, 5]\n",
      "[0, 0, 2, 3, 3, 4, 6, 6, 5, 0, 0, 2, 3, 3, 4, 6, 6, 5]\n",
      "[6, 6, 6, 6, 5, 5, 4, 4, 3, 3, 3, 3, 2, 2, 0, 0, 0, 0]\n"
     ]
    }
   ],
   "source": [
    "new_list = 2*m1 + m2\n",
    "print(new_list)\n",
    "new_list.sort()\n",
    "print(new_list)\n",
    "new_list.pop(0)\n",
    "print(new_list)\n",
    "del new_list[-3:]\n",
    "print(new_list)\n",
    "new_list.append(5)\n",
    "print(new_list)\n",
    "new_list = new_list*2\n",
    "print(new_list)\n",
    "new_list.sort(reverse=True)\n",
    "print(new_list)"
   ]
  },
  {
   "cell_type": "markdown",
   "metadata": {},
   "source": [
    "## Part (B)\n",
    "\n",
    "For each of the following code cells: \n",
    "\n",
    "1. Make a markdown cell above the code cell. Inside that markdown cell, write your hypothesis describing what the cell will print or otherwise achieve. There are several functions here that we haven't learned yet -- take your best guess! A couple of words per function (not per line of code) will suffice.\n",
    "2. Then, run the cell to check your hypothesis. \n",
    "3. After checking, feel free to modify the code cell to experiment with the functions and make sure everyone is clear on their operation. "
   ]
  },
  {
   "cell_type": "markdown",
   "metadata": {},
   "source": [
    "### This cell will assign lists to p,q, and r"
   ]
  },
  {
   "cell_type": "code",
   "execution_count": 19,
   "metadata": {},
   "outputs": [],
   "source": [
    "p = ['t', 'e', 's', 't']\n",
    "q = ['a', 'b', 'c', 'd']\n",
    "r = [10, 20, 8, 17]"
   ]
  },
  {
   "cell_type": "markdown",
   "metadata": {},
   "source": [
    "This cell will print:\n",
    "4\n",
    "8\n",
    "0"
   ]
  },
  {
   "cell_type": "code",
   "execution_count": 20,
   "metadata": {},
   "outputs": [
    {
     "name": "stdout",
     "output_type": "stream",
     "text": [
      "4\n",
      "8\n",
      "0\n"
     ]
    }
   ],
   "source": [
    "print(len(p))\n",
    "print(len(p + q))\n",
    "print(len([]))"
   ]
  },
  {
   "cell_type": "markdown",
   "metadata": {},
   "source": [
    "this cell will print: 'a,b,c,d' , 'test', 'A,B,C,D', 'a,b,c,d', '[a,cd]'"
   ]
  },
  {
   "cell_type": "code",
   "execution_count": 21,
   "metadata": {},
   "outputs": [
    {
     "name": "stdout",
     "output_type": "stream",
     "text": [
      "a, b, c, d\n",
      "test\n",
      "A, B, C, D\n",
      "a, b, c, d\n",
      "['a', 'cd']\n"
     ]
    }
   ],
   "source": [
    "t1 = ', '.join(q)\n",
    "t2 = ''.join(p)\n",
    "print(t1)\n",
    "print(t2)\n",
    "print(t1.upper())\n",
    "print(t1.upper().lower())\n",
    "print(''.join(q).split('b'))"
   ]
  },
  {
   "cell_type": "markdown",
   "metadata": {},
   "source": [
    "will print: 4, 2"
   ]
  },
  {
   "cell_type": "code",
   "execution_count": 22,
   "metadata": {},
   "outputs": [
    {
     "name": "stdout",
     "output_type": "stream",
     "text": [
      "3\n",
      "2\n"
     ]
    }
   ],
   "source": [
    "print(t1.count(','))\n",
    "print(t2.count('t'))"
   ]
  },
  {
   "cell_type": "markdown",
   "metadata": {},
   "source": [
    "will print:  e, d, 20, 55"
   ]
  },
  {
   "cell_type": "code",
   "execution_count": 23,
   "metadata": {},
   "outputs": [
    {
     "name": "stdout",
     "output_type": "stream",
     "text": [
      "e\n",
      "d\n",
      "20\n",
      "55\n"
     ]
    }
   ],
   "source": [
    "print(min(p))\n",
    "print(max(q))\n",
    "print(max(r))\n",
    "print(sum(r))"
   ]
  },
  {
   "cell_type": "markdown",
   "metadata": {},
   "source": [
    "will print: range(0, 10), \n",
    "[0, 1, 2, 3, 4, 5, 6, 7, 8, 9], \n",
    "[5, 6, 7], \n",
    "[], \n",
    "[10, 9, 8, 7, 6, 5, 4, 3, 2, 1]"
   ]
  },
  {
   "cell_type": "code",
   "execution_count": null,
   "metadata": {},
   "outputs": [],
   "source": [
    "print(range(10))\n",
    "print(list(range(10)))\n",
    "print(list(range(5,8)))\n",
    "print(list(range(10,0)))\n",
    "print(list(range(10,0,-1)))"
   ]
  },
  {
   "cell_type": "markdown",
   "metadata": {},
   "source": []
  },
  {
   "cell_type": "code",
   "execution_count": 24,
   "metadata": {},
   "outputs": [
    {
     "name": "stdout",
     "output_type": "stream",
     "text": [
      "['t', 'e', 's', 't'] ['a', 'b', 'c', 'd'] [10, 20, 8, 17]\n",
      "['e', 's', 't', 't']\n",
      "[('t', 'a', 10), ('e', 'b', 20), ('s', 'c', 8), ('t', 'd', 17)]\n",
      "[('t', 'e', 's', 't'), ('a', 'b', 'c', 'd'), (10, 20, 8, 17)]\n"
     ]
    }
   ],
   "source": [
    "print(p,q,r)\n",
    "print(sorted(p))\n",
    "print(list(zip(p,q,r)))\n",
    "print(list(zip(*zip(p,q,r))))"
   ]
  },
  {
   "cell_type": "code",
   "execution_count": null,
   "metadata": {},
   "outputs": [],
   "source": []
  }
 ],
 "metadata": {
  "kernelspec": {
   "display_name": "Python 3",
   "language": "python",
   "name": "python3"
  },
  "language_info": {
   "codemirror_mode": {
    "name": "ipython",
    "version": 3
   },
   "file_extension": ".py",
   "mimetype": "text/x-python",
   "name": "python",
   "nbconvert_exporter": "python",
   "pygments_lexer": "ipython3",
   "version": "3.6.5"
  }
 },
 "nbformat": 4,
 "nbformat_minor": 4
}
