{
 "cells": [
  {
   "cell_type": "markdown",
   "metadata": {},
   "source": [
    "# Homework 1\n",
    "\n",
    "### Name: Garret Grant\n",
    "### Collaborators: N/A"
   ]
  },
  {
   "cell_type": "markdown",
   "metadata": {},
   "source": [
    "This homework focuses on topics related to basic data types, collections, and iterations. \n",
    "\n",
    "I encourage collaborating with your peers, but the final text, code, and comments in this homework assignment should still be written by you.\n",
    "\n",
    "Pay special attention to the instructions - should your function `print` something or `return` something?\n",
    "\n",
    "# Submission instructions: \n",
    "- When you're ready to submit, click this \"fastforward button\": \n",
    "\n",
    "![image](submission.png)\n",
    "\n",
    "This will reload your functions from `HW1.py` and rerun all the cells in your Jupyter notebook. Double check to make sure that your outputs remain the same as before.\n",
    "- Make a zip file of `HW1.py` and `gimme_an_odd_number.py`. Do **NOT** change the file names.\n",
    "- Submit the zip file on Gradescope under \"HW1 - Autograder\". The grade you see is the grade you get for the accuracy portion of your code in problems 2-5 (so no surprises). The style and readability of your code will be checked by the reader aka human grader.\n",
    "- Convert this notebook into a pdf file and submit it on GradeScope under \"HW1 - PDF\". Make sure the figure in the last part is visible. "
   ]
  },
  {
   "cell_type": "markdown",
   "metadata": {},
   "source": [
    "## Comments and Docstrings\n",
    "\n",
    "You will be graded in part on the quality of your documentation and explanation of your code. Here's what we expect: \n",
    "\n",
    "- **Comments**: Use comments liberally to explain the purpose of short snippets of code. \n",
    "- **Docstrings**: Functions (and, later, classes) should be accompanied by a *docstring*. Briefly, the docstring should provide enough information that a user could correctly use your function ***without seeing the code.*** In somewhat more detail, the docstring should include the following information: \n",
    "    - One or more sentences describing the overall purpose of the function. \n",
    "    - An explanation of each of the inputs, including what they mean, their required data types, and any additional assumptions made about them.\n",
    "    - An explanation of the outputs. \n",
    "\n",
    "We gave you docstrings in this homework, and you should read them all!\n",
    "In future homeworks, as well as on exams, we will be looking for clear and informative comments and docstrings. \n",
    "\n",
    "## Code Structure\n",
    "\n",
    "In general, there are many good ways to solve a given problem. However, just getting the right result isn't enough to guarantee that your code is of high quality. Check the logic of your solutions to make sure that: \n",
    "\n",
    "- You aren't making any unnecessary steps, like creating variables you don't use. \n",
    "- You are effectively making use of the tools in the course, especially control flow. \n",
    "- Your code is readable. Each line is short (under 80 characters), and doesn't have long tangles of functions or `()` parentheses. \n",
    "\n",
    "Ok, let's go! "
   ]
  },
  {
   "cell_type": "code",
   "execution_count": 2,
   "metadata": {},
   "outputs": [],
   "source": [
    "# This cell imports your functions defined in HW1.py \n",
    "from HW1 import make_count_dictionary\n",
    "from HW1 import get_triangular_numbers, get_consonants, get_list_of_powers, get_list_of_even_powers\n",
    "from HW1 import random_walk"
   ]
  },
  {
   "cell_type": "markdown",
   "metadata": {},
   "source": [
    "# Problem 1\n",
    "\n",
    "## (a)\n",
    "\n",
    "In the cell below, define a string variable `s` such that `print(s)` prints:\n",
    "\n",
    "```\n",
    "Tired    : Doing math on your calculator. \n",
    "Wired    : Doing math in Python. \n",
    "Inspired : Training literal pythons to carry out long division using an abacus.\n",
    "```\n",
    "\n",
    "The potentially tricky part here is dealing with the newlines. You can choose to use newline characters, or use triple quotes. See: https://docs.python.org/3/tutorial/introduction.html#strings."
   ]
  },
  {
   "cell_type": "code",
   "execution_count": null,
   "metadata": {},
   "outputs": [],
   "source": [
    "# define s and print it here\n",
    "s "
   ]
  },
  {
   "cell_type": "markdown",
   "metadata": {},
   "source": [
    "Next, write Python commands which use `s` to print the specified outputs. Feel free to use loops and comprehensions; however, keep your code as concise as possible. Each solution should require at most three short lines of code.  \n",
    "\n",
    "For full credit, you should minimize the use of positional indexing (e.g. `s[5:10]`) when possible. \n",
    "\n",
    "## (b) \n",
    "\n",
    "Output:\n",
    "```\n",
    "Tired    \n",
    "Doing math on your calculator. \n",
    "Wired    \n",
    "Doing math in Python. \n",
    "Inspired \n",
    "Training literal pythons to carry out long division using an abacus.\n",
    "```"
   ]
  },
  {
   "cell_type": "code",
   "execution_count": null,
   "metadata": {},
   "outputs": [],
   "source": []
  },
  {
   "cell_type": "markdown",
   "metadata": {},
   "source": [
    "## (c) \n",
    "\n",
    "Output:\n",
    "```\n",
    "Tired\n",
    "Wired\n",
    "Inspired\n",
    "```\n",
    "\n",
    "**Hint**: look at the endings of words. A small amount of positional indexing might be handy here. "
   ]
  },
  {
   "cell_type": "code",
   "execution_count": null,
   "metadata": {},
   "outputs": [],
   "source": []
  },
  {
   "cell_type": "markdown",
   "metadata": {},
   "source": [
    "## (d) \n",
    "\n",
    "Output:\n",
    "```\n",
    "Tired    : Doing math on your calculator. \n",
    "Wired    : Doing math in Python. \n",
    "```\n",
    "\n",
    "**Hint**: These two lines are shorter than the other one. You are NOT allowed to use the fact that these are the first two sentences of the text.\n"
   ]
  },
  {
   "cell_type": "code",
   "execution_count": null,
   "metadata": {},
   "outputs": [],
   "source": []
  },
  {
   "cell_type": "markdown",
   "metadata": {},
   "source": [
    "## (e) \n",
    "\n",
    "When `print_s_change(s)` is run with the previously defined `s`, it should print:\n",
    "\n",
    "```\n",
    "Tired    : Doing data science on your calculator. \n",
    "Wired    : Doing data science in Python. \n",
    "Inspired : Training literal pythons to carry out machine learning using an abacus.\n",
    "```\n",
    "\n",
    "**Hint**: `str.replace`. \n"
   ]
  },
  {
   "cell_type": "code",
   "execution_count": null,
   "metadata": {},
   "outputs": [],
   "source": []
  },
  {
   "cell_type": "markdown",
   "metadata": {},
   "source": [
    "# Problem 2: Define `make_count_dictionary` in HW1.py\n",
    "\n",
    "The function `make_count_dictionary` takes a list `L` and returns a dictionary `D` where: \n",
    "\n",
    "- The *keys* of `D` are the unique elements of `L` (i.e. each element of `L` appears only once). \n",
    "- The value `D[i]` is the number of times that `i` appears in list `L`. \n",
    "\n",
    "Make sure your function has a descriptive docstring and is sufficiently commented.\n",
    "\n",
    "Your code should work for lists of strings, lists of integers, and lists containing both strings and integers. \n",
    "\n",
    "For example: \n",
    "\n",
    "```python\n",
    "# input\n",
    "L = [\"a\", \"a\", \"b\", \"c\"]\n",
    "# output\n",
    "{\"a\" : 2, \"b\" : 1, \"c\" : 1}\n",
    "```"
   ]
  },
  {
   "cell_type": "code",
   "execution_count": null,
   "metadata": {},
   "outputs": [],
   "source": [
    "# test your make_count_dictionary here, like this:\n",
    "# L = [\"a\", \"a\", \"b\", \"c\"]\n",
    "# count_dict = make_count_dictionary(L)\n",
    "# print(count_dict)\n",
    "\n",
    "# come up with other test cases (examples)."
   ]
  },
  {
   "cell_type": "markdown",
   "metadata": {},
   "source": [
    "# Problem 3: Write the script `gimme_an_odd_number.py`\n",
    "\n",
    "The `input()` function allows you to accept typed input from a user as a string. For example, \n",
    "\n",
    "```python\n",
    "x = input(\"Please enter an integer.\")\n",
    "# user types 7\n",
    "x\n",
    "# output \n",
    "'7'\n",
    "```\n",
    "\n",
    "When `gimme_an_odd_number.py` is run, it prompts to `\"Please enter an integer.\"`. If the user inputs an even integer, the code should re-prompt them with the same message. If the user has entered an odd integer, the function should print a list of all numbers that the user has given so far.\n",
    "\n",
    "You may assume that the user will only input strings of integers such as `\"3\"` or `\"42\"`. \n",
    "\n",
    "*Hint*: Try `while` and associated tools. \n",
    "\n",
    "*Hint*: Which built-in Python function ([https://docs.python.org/3/library/functions.html](https://docs.python.org/3/library/functions.html)) can turn string `\"3\"` to integer `3`?\n",
    "\n",
    "### Example\n",
    "\n",
    "```python\n",
    "\n",
    "# run gimme_an_odd_number.py\n",
    "\n",
    "> Please enter an integer.6\n",
    "> Please enter an integer.8\n",
    "> Please enter an integer.4\n",
    "> Please enter an integer.9\n",
    "> [6, 8, 4, 9]\n",
    "\n",
    "```"
   ]
  },
  {
   "cell_type": "markdown",
   "metadata": {},
   "source": [
    "# Problem 4\n",
    "\n",
    "Write list comprehensions which produce the specified list. \n",
    "\n",
    "For problems c and d, you can either write a nested list comprehension (https://docs.python.org/3/tutorial/datastructures.html#nested-list-comprehensions), or use one loop + list comprehension inside. I would recommend the following steps:\n",
    "- write something that works with two loops (nested loops)\n",
    "- condense the inner loop into a list comprehension\n",
    "- try turning the whole thing into a nested list comprehension"
   ]
  },
  {
   "cell_type": "markdown",
   "metadata": {},
   "source": [
    "## (a) Define `get_triangular_numbers` in HW1.py\n",
    "\n",
    "The `k`th triangular number ([https://en.wikipedia.org/wiki/Triangular_number](https://en.wikipedia.org/wiki/Triangular_number)) is the sum of natural numbers up to and including `k`. Write `get_triangular_numbers` such that for a given `k`, it returns a list of the first `k` triangular numbers. \n",
    "\n",
    "For example, the sixth triangular number is \n",
    "\n",
    "$$1+2+3+4+5+6 = 21,$$\n",
    "\n",
    "and running `get_triangular_numbers` with an argument of `k=6` should output `[1, 3, 6, 10, 15, 21]`. You function should have a docstring."
   ]
  },
  {
   "cell_type": "code",
   "execution_count": null,
   "metadata": {},
   "outputs": [],
   "source": [
    "# test your get_triangular_numbers here\n",
    "k = 3\n",
    "print(get_triangular_numbers(k))\n",
    "\n",
    "k = 10\n",
    "print(get_triangular_numbers(k))"
   ]
  },
  {
   "cell_type": "markdown",
   "metadata": {},
   "source": [
    "## (b) Define `get_consonants` in HW1.py\n",
    "\n",
    "The function `get_consonants` taks a string `s` as an input, and returns a list of the letters in `s` **except for vowels, spaces, commas, and periods.** For the purposes of this example, an English vowel is any of the letters `[\"a\", \"e\", \"i\", \"o\", \"u\"]`. For example: \n",
    "\n",
    "```python\n",
    "s = \"make it so, number one\"\n",
    "print(get_consonants(s))\n",
    "[\"m\", \"k\", \"t\", \"s\", \"n\", \"m\", \"b\", \"r\", \"n\"]\n",
    "```\n",
    "\n",
    "*Hint:* Consider the following code: \n",
    "\n",
    "```python\n",
    "l = \"a\"\n",
    "l not in [\"e\", \"w\"]\n",
    "```"
   ]
  },
  {
   "cell_type": "code",
   "execution_count": null,
   "metadata": {},
   "outputs": [],
   "source": [
    "# test your get_consonants here"
   ]
  },
  {
   "cell_type": "markdown",
   "metadata": {},
   "source": [
    "## (c) Define `get_list_of_powers` in HW1.py\n",
    "\n",
    "The function `get_list_of_powers` takes in a list `X` and integer `k` and returns a list `L` whose elements are themselves lists. The `i`th element of `L` contains the powers of `X[i]` from `0` to `k`. \n",
    "\n",
    "For example, running `get_list_of_powers` with inputs `X = [5, 6, 7]` and `k = 2` will return `[[1, 5, 25], [1, 6, 36], [1, 7, 49]]`."
   ]
  },
  {
   "cell_type": "code",
   "execution_count": null,
   "metadata": {},
   "outputs": [],
   "source": [
    "# test your get_list_of_powers here"
   ]
  },
  {
   "cell_type": "markdown",
   "metadata": {},
   "source": [
    "## (d) Define `get_list_of_even_powers` in HW1.py\n",
    "\n",
    "As in **(c)**, the function `get_list_of_even_powers` takes in a list `X` and inter `k`, and returns a list `L` whose elements are themselves lists. But now `L` includes only even powers of elements of `X`. For example, running `get_list_of_even_powers` with inputs `X = [5, 6, 7]` and `k = 8` should return `[[1, 25, 625, 15625, 390625],\n",
    " [1, 36, 1296, 46656, 1679616],\n",
    " [1, 49, 2401, 117649, 5764801]]`."
   ]
  },
  {
   "cell_type": "code",
   "execution_count": null,
   "metadata": {},
   "outputs": [],
   "source": [
    "# test your get_list_of_even_powers here"
   ]
  },
  {
   "cell_type": "markdown",
   "metadata": {},
   "source": [
    "# Problem 5: Define `random_walk` in HW1.py\n",
    "\n",
    "In this problem, we'll simulate the *simple random walk*, perhaps the most important discrete-time stochastic process. Random walks are commonly used to model phenomena in physics,  chemistry, biology, and finance. In the simple random walk, at each timestep we flip a fair coin. If heads, we move foward one step; if tails, we move backwards. Let \"forwards\" be represented by positive integers, and \"backwards\" be represented by negative integers. For example, if we are currently three steps backwards from the starting point, our position is `-3`. \n",
    "\n",
    "Write `random_walk` to simulate a random walk. Your function should: \n",
    "\n",
    "- Take an upper and lower bound as inputs.\n",
    "- Return three variables `pos`, `positions`, `steps`, in that order.\n",
    "- `pos` is an integer, and indicates the walk's final position at termination.\n",
    "- `positions` is a list of integers, and it is a log of the position of the walk at each time step.\n",
    "- `steps` is a list of integers, and it is a log of the results of the coin flips. \n",
    "- Please read the provided docstrings for more details on what the autograder expects.\n",
    "\n",
    "When the walk reaches the upper or lower bound, print a message such as `Upper bound at 3 reached` and terminate the walk. \n",
    "\n",
    "Your code should include at least one instance of an `elif` statement and at least one instance of a `break` statement."
   ]
  },
  {
   "cell_type": "markdown",
   "metadata": {},
   "source": [
    "**Hint**\n",
    "To simulate a fair coin toss, try running the following cell multiple times.\n",
    "You don't have to use `\"heads\"` and `\"tails\"` when using this function -- can you think of a more useful choice set?"
   ]
  },
  {
   "cell_type": "code",
   "execution_count": null,
   "metadata": {},
   "outputs": [],
   "source": [
    "import random\n",
    "from matplotlib import pyplot as plt"
   ]
  },
  {
   "cell_type": "code",
   "execution_count": null,
   "metadata": {},
   "outputs": [],
   "source": [
    "for _ in range(10):\n",
    "    x = random.choice([\"heads\",\"tails\"])\n",
    "    print(x)"
   ]
  },
  {
   "cell_type": "code",
   "execution_count": null,
   "metadata": {},
   "outputs": [],
   "source": [
    "# test your random_walk here"
   ]
  },
  {
   "cell_type": "markdown",
   "metadata": {},
   "source": [
    "Finally, you might be interested in visualizing the walk. Run the following cell to produce a plot. When the bounds are set very large, the resulting visualization can be quite intriguing and attractive. It is not necessary for you to understand the syntax of these commands at this stage. "
   ]
  },
  {
   "cell_type": "code",
   "execution_count": null,
   "metadata": {},
   "outputs": [],
   "source": [
    "# uncomment me!\n",
    "#\n",
    "# pos, positions, steps = random_walk(5000, -5000)\n",
    "#\n",
    "# plt.figure(figsize=(12, 8))\n",
    "# plt.plot(positions)\n",
    "# plt.xlabel('Timestep')\n",
    "# plt.ylabel('Position')\n",
    "# plt.title('Random Walk')\n",
    "# plt.show()"
   ]
  }
 ],
 "metadata": {
  "interpreter": {
   "hash": "31f2aee4e71d21fbe5cf8b01ff0e069b9275f58929596ceb00d14d90e3e16cd6"
  },
  "kernelspec": {
   "display_name": "Python 3",
   "language": "python",
   "name": "python3"
  },
  "language_info": {
   "codemirror_mode": {
    "name": "ipython",
    "version": 3
   },
   "file_extension": ".py",
   "mimetype": "text/x-python",
   "name": "python",
   "nbconvert_exporter": "python",
   "pygments_lexer": "ipython3",
   "version": "3.6.5"
  }
 },
 "nbformat": 4,
 "nbformat_minor": 4
}
