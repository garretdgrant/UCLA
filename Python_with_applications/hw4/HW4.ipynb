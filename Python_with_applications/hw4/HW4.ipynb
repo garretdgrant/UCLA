{
 "cells": [
  {
   "cell_type": "markdown",
   "metadata": {},
   "source": [
    "# Homework 5"
   ]
  },
  {
   "cell_type": "markdown",
   "metadata": {},
   "source": [
    "## Problem 1: Faceted Histogram\n",
    "\n",
    "Run the following code block to define a function which generates two 1-dimensional `numpy` arrays. The first array, called `groups`, consists of integers between `0` and `n_groups - 1`, inclusive. The second array, called `data`, consists of real numbers. "
   ]
  },
  {
   "cell_type": "code",
   "execution_count": 1,
   "metadata": {},
   "outputs": [],
   "source": [
    "import numpy as np\n",
    "from matplotlib import pyplot as plt\n",
    "\n",
    "def create_data(n, n_groups):\n",
    "    \"\"\"\n",
    "    generate a set of fake data with group labels. \n",
    "    n data points and group labels are generated. \n",
    "    n_groups controls the number of distinct groups. \n",
    "    Returns an np.array() of integer group labels and an \n",
    "    np.array() of float data. \n",
    "    \"\"\"\n",
    "    \n",
    "    # random group assignments as integers between 0 and n_groups-1, inclusive\n",
    "    groups = np.random.randint(0, n_groups, n)\n",
    "    \n",
    "    # function of the groups plus gaussian noise (bell curve)\n",
    "    data   = np.sin(groups) + np.random.randn(n)\n",
    "    \n",
    "    return(groups, data)"
   ]
  },
  {
   "cell_type": "markdown",
   "metadata": {},
   "source": [
    "## Part A\n",
    "\n",
    "Write a function called `facet_hist()`. This function should accept five arguments: \n",
    "\n",
    "1. `groups`, the `np.array` of group labels as output by `create_data()`. \n",
    "2. `data`, the `np.array` of data as output by `create_data()`.\n",
    "3. `m_rows`, the number of desired rows in your faceted histogram (explanation coming). \n",
    "4. `m_cols`, the number of desired columns in your faceted histogram (explanation coming). \n",
    "5. `figsize`, the size of the figure. \n",
    "\n",
    "Your function will create faceted histograms -- that is, a separate axis and histogram for each group. For example, if there are six groups in the data, then you should be able to use the code \n",
    "\n",
    "```python\n",
    "groups, data = create_data(1000, 6)\n",
    "facet_hist(groups, data, m_rows = 2, m_cols = 3, figsize = (6,4))\n",
    "```\n",
    "\n",
    "to create a plot like this: \n",
    "\n",
    "<figure class=\"image\" style=\"width:70%\">\n",
    "  <img src=\"https://philchodrow.github.io/PIC16A/homework/faceted_histogram.png\n",
    "\" alt=\"An array of six histograms, depicting bell-curve data, with two rows and three columns. Each histogram is labeled with one of the six group labels.\" width=\"400px\">\n",
    "</figure>\n",
    "\n",
    "It's fine if your group labels run left-to-right (so that the top row has labels 0, 1, and 2 rather than 0, 2, 4). \n",
    "\n",
    "\n",
    "You should also be able to change the orientation by modifying `m_rows`, `m_cols`, and `figsize`. \n",
    "\n",
    "```\n",
    "facet_hist(groups, data, m_rows = 3, m_cols = 2, figsize = (4,6))\n",
    "```\n",
    "\n",
    "<figure class=\"image\" style=\"width:70%\">\n",
    "  <img src=\"https://philchodrow.github.io/PIC16A/homework/faceted_histogram_2.png\n",
    "\" alt=\"An array of six histograms, depicting bell-curve data, with three rows and two columns. Each histogram is labeled with one of the six group labels.\" width=\"300px\">\n",
    "</figure>\n",
    "\n",
    "### Requirements: \n",
    "\n",
    "1. Your function should work **whenever `m_rows*m_cols` is equal to the total number of groups.** Your function should first check that this is the case, and raise an informative `ValueError` if not. You may assume that there is at least one data point for each group label in the data supplied. \n",
    "2. For full credit, you should not loop over the individual entries of `groups` or `data`. It is acceptable to loop over the distinct values of `groups`. In general, aim to minimize `for`-loops and maximize use of `Numpy` indexing. \n",
    "2. Use of `pandas` is acceptable but unnecessary, and is unlikely to make your solution significantly simpler. \n",
    "2. You should include a horizontal axis label (of your choice) along **only the bottom row** of axes. \n",
    "3. You should include a vertical axis label (e.g. \"Frequency\") along **only the leftmost column of axes.**\n",
    "4. Each axis should have an axis title of the form \"Group X\", as shown above. \n",
    "5. Comments and docstrings! \n",
    "\n",
    "### Hints\n",
    "\n",
    "- If your plots look \"squished,\" then `plt.tight_layout()` is sometimes helpful. Just call it after constructing your figure, with no arguments. \n",
    "- Integer division `i // j` and remainders `i % j` are helpful here, although other solutions are also possible. \n"
   ]
  },
  {
   "cell_type": "code",
   "execution_count": 56,
   "metadata": {},
   "outputs": [
    {
     "name": "stdout",
     "output_type": "stream",
     "text": [
      "3 2\n"
     ]
    },
    {
     "data": {
      "image/png": "[encoded data removed]",
      "text/plain": [
       "<Figure size 864x720 with 6 Axes>"
      ]
     },
     "metadata": {},
     "output_type": "display_data"
    }
   ],
   "source": [
    "# your solution here\n",
    "def facet_hist(groups, data, m_rows, m_cols, figsize):\n",
    "    n = m_rows * m_cols\n",
    "    \n",
    "    if n != groups.max() + 1:\n",
    "        raise ValueError('m_rows*m_cols must be equal to number of groups')\n",
    "    print(m_rows, m_cols)\n",
    "    \n",
    "    fig, ax = plt.subplots(m_rows, m_cols, figsize=figsize)\n",
    "    \n",
    "    for i in range(n):\n",
    "        ix = groups == i\n",
    "        group_data = data[ix]\n",
    "        row, col = (i % m_rows, i //( m_cols + 1))\n",
    "        ax[row,col].hist(group_data)\n",
    "        ax[row, col].set_title('Group {}'.format(i))\n",
    "        ax[row,col].set_xlabel('Value')\n",
    "        ax[row,col].set_ylabel('Frequency')\n",
    "    plt.tight_layout()\n",
    "#         print(group_data)\n",
    "#     x = np.linspace(-10,10,1000)\n",
    "#     y = -x**2\n",
    "#     fig, ax = plt.subplots(m_rows, m_cols, figsize=figsize)\n",
    "#     ax[0,0].plot(x,y)\n",
    "#     plt.tight_layout()\n",
    "groups, data = create_data(1000, 6)\n",
    "facet_hist(groups, data, 3, 2, figsize = (12, 10))\n",
    "\n"
   ]
  },
  {
   "cell_type": "code",
   "execution_count": 32,
   "metadata": {},
   "outputs": [
    {
     "name": "stdout",
     "output_type": "stream",
     "text": [
      "0 0 0\n",
      "1 1 0\n",
      "2 2 1\n",
      "3 0 1\n",
      "4 1 2\n",
      "5 2 2\n"
     ]
    }
   ],
   "source": [
    "# test code\n",
    "groups, data = create_data(1000, 6)\n",
    "facet_hist(groups, data, 3, 2, figsize = (12, 8))\n",
    "# fig, ax = plt.subplots(2,3, figsize=(15,4))\n",
    "# x = np.linspace(0,10,1000)\n",
    "# y = np.sin(x)\n",
    "# ax[0,0].plot(x,y)"
   ]
  },
  {
   "cell_type": "code",
   "execution_count": 52,
   "metadata": {},
   "outputs": [
    {
     "name": "stdout",
     "output_type": "stream",
     "text": [
      "4 2\n"
     ]
    },
    {
     "ename": "IndexError",
     "evalue": "index 2 is out of bounds for axis 1 with size 2",
     "output_type": "error",
     "traceback": [
      "\u001b[0;31m---------------------------------------------------------------------------\u001b[0m",
      "\u001b[0;31mIndexError\u001b[0m                                Traceback (most recent call last)",
      "\u001b[0;32m<ipython-input-52-5cc5aa2bbae4>\u001b[0m in \u001b[0;36m<module>\u001b[0;34m()\u001b[0m\n\u001b[1;32m      1\u001b[0m \u001b[0;31m# test code\u001b[0m\u001b[0;34m\u001b[0m\u001b[0;34m\u001b[0m\u001b[0m\n\u001b[1;32m      2\u001b[0m \u001b[0mgroups\u001b[0m\u001b[0;34m,\u001b[0m \u001b[0mdata\u001b[0m \u001b[0;34m=\u001b[0m \u001b[0mcreate_data\u001b[0m\u001b[0;34m(\u001b[0m\u001b[0;36m3000\u001b[0m\u001b[0;34m,\u001b[0m \u001b[0;36m8\u001b[0m\u001b[0;34m)\u001b[0m\u001b[0;34m\u001b[0m\u001b[0m\n\u001b[0;32m----> 3\u001b[0;31m \u001b[0mfacet_hist\u001b[0m\u001b[0;34m(\u001b[0m\u001b[0mgroups\u001b[0m\u001b[0;34m,\u001b[0m \u001b[0mdata\u001b[0m\u001b[0;34m,\u001b[0m \u001b[0;36m4\u001b[0m\u001b[0;34m,\u001b[0m \u001b[0;36m2\u001b[0m\u001b[0;34m,\u001b[0m \u001b[0mfigsize\u001b[0m \u001b[0;34m=\u001b[0m \u001b[0;34m(\u001b[0m\u001b[0;36m4\u001b[0m\u001b[0;34m,\u001b[0m \u001b[0;36m7\u001b[0m\u001b[0;34m)\u001b[0m\u001b[0;34m)\u001b[0m\u001b[0;34m\u001b[0m\u001b[0m\n\u001b[0m",
      "\u001b[0;32m<ipython-input-51-5ea82f4f94df>\u001b[0m in \u001b[0;36mfacet_hist\u001b[0;34m(groups, data, m_rows, m_cols, figsize)\u001b[0m\n\u001b[1;32m     13\u001b[0m         \u001b[0mgroup_data\u001b[0m \u001b[0;34m=\u001b[0m \u001b[0mdata\u001b[0m\u001b[0;34m[\u001b[0m\u001b[0mix\u001b[0m\u001b[0;34m]\u001b[0m\u001b[0;34m\u001b[0m\u001b[0m\n\u001b[1;32m     14\u001b[0m         \u001b[0mrow\u001b[0m\u001b[0;34m,\u001b[0m \u001b[0mcol\u001b[0m \u001b[0;34m=\u001b[0m \u001b[0;34m(\u001b[0m\u001b[0mi\u001b[0m \u001b[0;34m%\u001b[0m \u001b[0mm_rows\u001b[0m\u001b[0;34m,\u001b[0m \u001b[0mi\u001b[0m \u001b[0;34m//\u001b[0m\u001b[0;34m(\u001b[0m \u001b[0mm_cols\u001b[0m \u001b[0;34m+\u001b[0m \u001b[0;36m1\u001b[0m\u001b[0;34m)\u001b[0m\u001b[0;34m)\u001b[0m\u001b[0;34m\u001b[0m\u001b[0m\n\u001b[0;32m---> 15\u001b[0;31m         \u001b[0max\u001b[0m\u001b[0;34m[\u001b[0m\u001b[0mrow\u001b[0m\u001b[0;34m,\u001b[0m\u001b[0mcol\u001b[0m\u001b[0;34m]\u001b[0m\u001b[0;34m.\u001b[0m\u001b[0mhist\u001b[0m\u001b[0;34m(\u001b[0m\u001b[0mgroup_data\u001b[0m\u001b[0;34m)\u001b[0m\u001b[0;34m\u001b[0m\u001b[0m\n\u001b[0m\u001b[1;32m     16\u001b[0m         \u001b[0max\u001b[0m\u001b[0;34m[\u001b[0m\u001b[0mrow\u001b[0m\u001b[0;34m,\u001b[0m \u001b[0mcol\u001b[0m\u001b[0;34m]\u001b[0m\u001b[0;34m.\u001b[0m\u001b[0mset_title\u001b[0m\u001b[0;34m(\u001b[0m\u001b[0;34m'Group {}'\u001b[0m\u001b[0;34m.\u001b[0m\u001b[0mformat\u001b[0m\u001b[0;34m(\u001b[0m\u001b[0mi\u001b[0m\u001b[0;34m)\u001b[0m\u001b[0;34m)\u001b[0m\u001b[0;34m\u001b[0m\u001b[0m\n\u001b[1;32m     17\u001b[0m         \u001b[0max\u001b[0m\u001b[0;34m[\u001b[0m\u001b[0mrow\u001b[0m\u001b[0;34m,\u001b[0m\u001b[0mcol\u001b[0m\u001b[0;34m]\u001b[0m\u001b[0;34m.\u001b[0m\u001b[0mset_xlabel\u001b[0m\u001b[0;34m(\u001b[0m\u001b[0;34m'Value'\u001b[0m\u001b[0;34m)\u001b[0m\u001b[0;34m\u001b[0m\u001b[0m\n",
      "\u001b[0;31mIndexError\u001b[0m: index 2 is out of bounds for axis 1 with size 2"
     ]
    },
    {
     "data": {
      "image/png": "[encoded data removed]",
      "text/plain": [
       "<Figure size 288x504 with 8 Axes>"
      ]
     },
     "metadata": {},
     "output_type": "display_data"
    }
   ],
   "source": [
    "# test code\n",
    "groups, data = create_data(3000, 8)\n",
    "facet_hist(groups, data, 4, 2, figsize = (4, 7))"
   ]
  },
  {
   "cell_type": "markdown",
   "metadata": {},
   "source": [
    "## Part B\n",
    "\n",
    "Modify your function (it's ok to modify it in place, no need for copy/paste) so that it accepts additional `**kwargs` passed to `ax.hist()`. For example,  \n",
    "\n",
    "```\n",
    "facet_hist(groups, data, 2, 3, figsize = (6, 4), alpha = .4, color = \"firebrick\")\n",
    "```\n",
    "\n",
    "should produce \n",
    "\n",
    "<figure class=\"image\" style=\"width:70%\">\n",
    "  <img src=\"https://philchodrow.github.io/PIC16A/homework/faceted_histogram_3.png\n",
    "\" alt=\"An array of six histograms, depicting bell-curve data, with three rows and two columns. Each histogram is labeled with one of the six group labels. The histograms are now colored pink and are slightly transparent.|\" width=\"400px\">\n",
    "  <figcaption><i>Example output.</i></figcaption>\n",
    "</figure>\n",
    "\n",
    "You should be able to run this code **without defining parameters `alpha` and `color` for `facet_hist()`.** "
   ]
  },
  {
   "cell_type": "code",
   "execution_count": null,
   "metadata": {},
   "outputs": [],
   "source": [
    "# run this code to show that your modified function works\n",
    "groups, data = create_data(1000, 6)\n",
    "facet_hist(groups, data, 2, 3, figsize = (6, 4), alpha = .4, color = \"firebrick\")"
   ]
  },
  {
   "cell_type": "markdown",
   "metadata": {},
   "source": [
    "## Problem 2: Scatterplot Matrices\n",
    "\n",
    "Run the following code to download, import, and display a data set from the 2019 World Happiness Report. "
   ]
  },
  {
   "cell_type": "code",
   "execution_count": 3,
   "metadata": {},
   "outputs": [
    {
     "data": {
      "text/html": [
       "<div>\n",
       "<style scoped>\n",
       "    .dataframe tbody tr th:only-of-type {\n",
       "        vertical-align: middle;\n",
       "    }\n",
       "\n",
       "    .dataframe tbody tr th {\n",
       "        vertical-align: top;\n",
       "    }\n",
       "\n",
       "    .dataframe thead th {\n",
       "        text-align: right;\n",
       "    }\n",
       "</style>\n",
       "<table border=\"1\" class=\"dataframe\">\n",
       "  <thead>\n",
       "    <tr style=\"text-align: right;\">\n",
       "      <th></th>\n",
       "      <th>Overall rank</th>\n",
       "      <th>Country or region</th>\n",
       "      <th>Score</th>\n",
       "      <th>GDP per capita</th>\n",
       "      <th>Social support</th>\n",
       "      <th>Healthy life expectancy</th>\n",
       "      <th>Freedom to make life choices</th>\n",
       "      <th>Generosity</th>\n",
       "      <th>Perceptions of corruption</th>\n",
       "    </tr>\n",
       "  </thead>\n",
       "  <tbody>\n",
       "    <tr>\n",
       "      <th>0</th>\n",
       "      <td>1</td>\n",
       "      <td>Finland</td>\n",
       "      <td>7.769</td>\n",
       "      <td>1.340</td>\n",
       "      <td>1.587</td>\n",
       "      <td>0.986</td>\n",
       "      <td>0.596</td>\n",
       "      <td>0.153</td>\n",
       "      <td>0.393</td>\n",
       "    </tr>\n",
       "    <tr>\n",
       "      <th>1</th>\n",
       "      <td>2</td>\n",
       "      <td>Denmark</td>\n",
       "      <td>7.600</td>\n",
       "      <td>1.383</td>\n",
       "      <td>1.573</td>\n",
       "      <td>0.996</td>\n",
       "      <td>0.592</td>\n",
       "      <td>0.252</td>\n",
       "      <td>0.410</td>\n",
       "    </tr>\n",
       "    <tr>\n",
       "      <th>2</th>\n",
       "      <td>3</td>\n",
       "      <td>Norway</td>\n",
       "      <td>7.554</td>\n",
       "      <td>1.488</td>\n",
       "      <td>1.582</td>\n",
       "      <td>1.028</td>\n",
       "      <td>0.603</td>\n",
       "      <td>0.271</td>\n",
       "      <td>0.341</td>\n",
       "    </tr>\n",
       "    <tr>\n",
       "      <th>3</th>\n",
       "      <td>4</td>\n",
       "      <td>Iceland</td>\n",
       "      <td>7.494</td>\n",
       "      <td>1.380</td>\n",
       "      <td>1.624</td>\n",
       "      <td>1.026</td>\n",
       "      <td>0.591</td>\n",
       "      <td>0.354</td>\n",
       "      <td>0.118</td>\n",
       "    </tr>\n",
       "    <tr>\n",
       "      <th>4</th>\n",
       "      <td>5</td>\n",
       "      <td>Netherlands</td>\n",
       "      <td>7.488</td>\n",
       "      <td>1.396</td>\n",
       "      <td>1.522</td>\n",
       "      <td>0.999</td>\n",
       "      <td>0.557</td>\n",
       "      <td>0.322</td>\n",
       "      <td>0.298</td>\n",
       "    </tr>\n",
       "    <tr>\n",
       "      <th>...</th>\n",
       "      <td>...</td>\n",
       "      <td>...</td>\n",
       "      <td>...</td>\n",
       "      <td>...</td>\n",
       "      <td>...</td>\n",
       "      <td>...</td>\n",
       "      <td>...</td>\n",
       "      <td>...</td>\n",
       "      <td>...</td>\n",
       "    </tr>\n",
       "    <tr>\n",
       "      <th>151</th>\n",
       "      <td>152</td>\n",
       "      <td>Rwanda</td>\n",
       "      <td>3.334</td>\n",
       "      <td>0.359</td>\n",
       "      <td>0.711</td>\n",
       "      <td>0.614</td>\n",
       "      <td>0.555</td>\n",
       "      <td>0.217</td>\n",
       "      <td>0.411</td>\n",
       "    </tr>\n",
       "    <tr>\n",
       "      <th>152</th>\n",
       "      <td>153</td>\n",
       "      <td>Tanzania</td>\n",
       "      <td>3.231</td>\n",
       "      <td>0.476</td>\n",
       "      <td>0.885</td>\n",
       "      <td>0.499</td>\n",
       "      <td>0.417</td>\n",
       "      <td>0.276</td>\n",
       "      <td>0.147</td>\n",
       "    </tr>\n",
       "    <tr>\n",
       "      <th>153</th>\n",
       "      <td>154</td>\n",
       "      <td>Afghanistan</td>\n",
       "      <td>3.203</td>\n",
       "      <td>0.350</td>\n",
       "      <td>0.517</td>\n",
       "      <td>0.361</td>\n",
       "      <td>0.000</td>\n",
       "      <td>0.158</td>\n",
       "      <td>0.025</td>\n",
       "    </tr>\n",
       "    <tr>\n",
       "      <th>154</th>\n",
       "      <td>155</td>\n",
       "      <td>Central African Republic</td>\n",
       "      <td>3.083</td>\n",
       "      <td>0.026</td>\n",
       "      <td>0.000</td>\n",
       "      <td>0.105</td>\n",
       "      <td>0.225</td>\n",
       "      <td>0.235</td>\n",
       "      <td>0.035</td>\n",
       "    </tr>\n",
       "    <tr>\n",
       "      <th>155</th>\n",
       "      <td>156</td>\n",
       "      <td>South Sudan</td>\n",
       "      <td>2.853</td>\n",
       "      <td>0.306</td>\n",
       "      <td>0.575</td>\n",
       "      <td>0.295</td>\n",
       "      <td>0.010</td>\n",
       "      <td>0.202</td>\n",
       "      <td>0.091</td>\n",
       "    </tr>\n",
       "  </tbody>\n",
       "</table>\n",
       "<p>156 rows × 9 columns</p>\n",
       "</div>"
      ],
      "text/plain": [
       "     Overall rank         Country or region  Score  GDP per capita  \\\n",
       "0               1                   Finland  7.769           1.340   \n",
       "1               2                   Denmark  7.600           1.383   \n",
       "2               3                    Norway  7.554           1.488   \n",
       "3               4                   Iceland  7.494           1.380   \n",
       "4               5               Netherlands  7.488           1.396   \n",
       "..            ...                       ...    ...             ...   \n",
       "151           152                    Rwanda  3.334           0.359   \n",
       "152           153                  Tanzania  3.231           0.476   \n",
       "153           154               Afghanistan  3.203           0.350   \n",
       "154           155  Central African Republic  3.083           0.026   \n",
       "155           156               South Sudan  2.853           0.306   \n",
       "\n",
       "     Social support  Healthy life expectancy  Freedom to make life choices  \\\n",
       "0             1.587                    0.986                         0.596   \n",
       "1             1.573                    0.996                         0.592   \n",
       "2             1.582                    1.028                         0.603   \n",
       "3             1.624                    1.026                         0.591   \n",
       "4             1.522                    0.999                         0.557   \n",
       "..              ...                      ...                           ...   \n",
       "151           0.711                    0.614                         0.555   \n",
       "152           0.885                    0.499                         0.417   \n",
       "153           0.517                    0.361                         0.000   \n",
       "154           0.000                    0.105                         0.225   \n",
       "155           0.575                    0.295                         0.010   \n",
       "\n",
       "     Generosity  Perceptions of corruption  \n",
       "0         0.153                      0.393  \n",
       "1         0.252                      0.410  \n",
       "2         0.271                      0.341  \n",
       "3         0.354                      0.118  \n",
       "4         0.322                      0.298  \n",
       "..          ...                        ...  \n",
       "151       0.217                      0.411  \n",
       "152       0.276                      0.147  \n",
       "153       0.158                      0.025  \n",
       "154       0.235                      0.035  \n",
       "155       0.202                      0.091  \n",
       "\n",
       "[156 rows x 9 columns]"
      ]
     },
     "execution_count": 3,
     "metadata": {},
     "output_type": "execute_result"
    }
   ],
   "source": [
    "# if you experience ConnectionRefused errors, you may instead \n",
    "# copy the url into your browser, save the file as data.csv \n",
    "# in the same directory as the notebook, and then replace the \n",
    "# third line with \n",
    "# happiness = pd.read_csv(\"data.csv\")\n",
    "\n",
    "import pandas as pd\n",
    "url = \"https://philchodrow.github.io/PIC16A/datasets/world_happiness_report/2019.csv\"\n",
    "happiness = pd.read_csv(url)\n",
    "happiness"
   ]
  },
  {
   "cell_type": "markdown",
   "metadata": {},
   "source": [
    "This is a `pandas` data frame. Observe the following: \n",
    "\n",
    "1. Each row corresponds to a country or region. \n",
    "2. The `Score` column is the overall happiness score of the country, evaluated via surveys. \n",
    "3. The other columns give indicators of different features of life in the country, including GDP, level of social support, life expectancy, freedom, generosity of compatriots, and perceptions of corruption in governmental institutions. \n",
    "\n",
    " You can extract each of these columns using dictionary-like syntax: \n",
    " \n",
    " ```python\n",
    " happiness[\"Score\"]\n",
    " ```\n",
    " \n",
    " ```\n",
    "0      7.769\n",
    "1      7.600\n",
    "2      7.554\n",
    "3      7.494\n",
    "4      7.488\n",
    "       ...  \n",
    "151    3.334\n",
    "152    3.231\n",
    "153    3.203\n",
    "154    3.083\n",
    "155    2.853\n",
    "Name: Score, Length: 156, dtype: float64\n",
    " ```\n",
    " \n",
    "Technically, this output is a `pandas` `Series`; however, in this context (and most others) it's fine to simply think of it as a 1-dimensional `np.array()`. "
   ]
  },
  {
   "cell_type": "markdown",
   "metadata": {},
   "source": [
    "### Part A\n",
    "\n",
    "As a warmup, create a scatterplot of the overall `Score` column against a numerical column of your choice. Give the horizontal and vertical axes appropriate labels. Discuss your result. Is there a correlation? Does that correlation make sense to you? "
   ]
  },
  {
   "cell_type": "code",
   "execution_count": null,
   "metadata": {},
   "outputs": [],
   "source": [
    "# plotting code here\n"
   ]
  },
  {
   "cell_type": "markdown",
   "metadata": {},
   "source": [
    "---\n",
    "\n",
    "*Discuss here*\n",
    "\n",
    "---"
   ]
  },
  {
   "cell_type": "markdown",
   "metadata": {},
   "source": [
    "## Part B\n",
    "\n",
    "That plot you made may have helped you understand whether or not there's a relationship between the overall happiness score and the variable that you chose to plot. However, there are several variables in this data set, and we don't want to manually re-run the plot for each pair of variables. Let's see if we can get a more systematic view of the correlations in the data. \n",
    "\n",
    "Write a function called `scatterplot_matrix()`, with arguments `cols` and `figsize`. The `cols` argument should be a list of strings, each of which are the name of one of the columns above, for example `cols = [\"Score\", \"GDP per capita\", \"Social support\"]`. Your function should create a *scatterplot matrix*, like this:  \n",
    "\n",
    "```python\n",
    "cols = [\"Score\", \n",
    "        \"GDP per capita\", \n",
    "        \"Social support\"]\n",
    "           \n",
    "scatterplot_matrix(cols,figsize = (7,7))\n",
    "```\n",
    "\n",
    "<figure class=\"image\" style=\"width:70%\">\n",
    "  <img src=\"https://philchodrow.github.io/PIC16A/homework/scatterplot_matrix.png\" alt=\"A 3x3 grid of scatterplots, showing relationships between Score and GDP, Score and Social support, and GDP and Social support. The diagonal is blank. All three variables are strongly correlated with each other.\" width=\"400px\">\n",
    "</figure>\n",
    "\n",
    "There is a separate scatterplot for each possible pair of variables. In fact, there are two: one where the first variable is on the horizontal axis, and one where it's on the vertical axis. Some analysts prefer to remove half the plots to avoid redundancy, but you don't have to bother with that. The diagonal is empty, since there's no point in investigating the relationship between a variable and itself. \n",
    "\n",
    "Don't forget comments and docstrings! "
   ]
  },
  {
   "cell_type": "code",
   "execution_count": null,
   "metadata": {},
   "outputs": [],
   "source": [
    "# define your function\n"
   ]
  },
  {
   "cell_type": "code",
   "execution_count": null,
   "metadata": {},
   "outputs": [],
   "source": [
    "# test your code, several times if needed, and discuss the correlations you observe. \n",
    "# Add code cells if needed to show multiple outputs. \n"
   ]
  },
  {
   "cell_type": "markdown",
   "metadata": {},
   "source": [
    "## Part C\n",
    "\n",
    "The *correlation coefficient* is a measure of linear correlation between two variables. The correlation coefficient between $X$ and $Y$ is high if $X$ tends to be high when $Y$ is, and vice versa. Correlation coefficients lie in the interval $[-1, 1]$. \n",
    "\n",
    "`numpy` provides a function to conveniently compute the correlation coefficient between two or more variables. Find it, and then use it to add \"captions\" (as horizontal axis labels) to each panel of your plot giving the correlation coefficient between the plotted variables. For example, \n",
    "\n",
    "```python\n",
    "cols = [\"Score\", \n",
    "        \"GDP per capita\", \n",
    "        \"Social support\"]\n",
    "           \n",
    "scatterplot_matrix(cols,figsize = (7,7))\n",
    "```\n",
    "\n",
    "<figure class=\"image\" style=\"width:70%\">\n",
    "  <img src=\"https://philchodrow.github.io/PIC16A/homework/scatterplot_matrix_with_cors.png\" alt=\"A 3x3 grid of scatterplots, showing relationships between Score and GDP, Score and Social support, and GDP and Social support. The diagonal is blank. All three variables are strongly correlated with each other. Correlation coefficients between 0.70 and 0.84 lie beneath each plot.\" width=\"400px\">\n",
    "</figure>\n",
    "\n",
    "It's not required that you add the Greek letter $\\rho$ (the classical symbol for correlation coefficients), but if you do want to, here's how. You can also tweak the rounding as desired.  \n",
    "\n",
    "```python\n",
    "ax.set(xlabel = r\"$\\rho$ = \" + str(np.round(my_number, 2)))\n",
    "```"
   ]
  },
  {
   "cell_type": "markdown",
   "metadata": {},
   "source": [
    "\n",
    "Run your code on several different subsets of the columns. It's ok to simply re-run your  Part B results where they are and show the output including the correlation coefficient. Discuss your findings. What positive correlations do you observe? Do they make sense? Are there any negative correlations? Do the quantitative results match what you see \"by eye\"? \n",
    "\n",
    "If you were going to create a model to attempt to predict overall happiness from other indicators, which columns would you use? Why? \n",
    "\n",
    "---\n",
    "\n",
    "*Discuss here*\n",
    "\n",
    "---"
   ]
  },
  {
   "cell_type": "markdown",
   "metadata": {},
   "source": [
    "## Problem 3: Plotting Time Series\n",
    "\n",
    "Run the following code to download two time series data sets: \n",
    "- Historical data on the Dow Jones Industrial Average (a composite performance measure of the US stock market), retrieved from Yahoo Finance. \n",
    "- Cumulative COVID19 cases over time, from the [New York Times](https://github.com/nytimes/covid-19-data). "
   ]
  },
  {
   "cell_type": "code",
   "execution_count": 2,
   "metadata": {},
   "outputs": [],
   "source": [
    "# run this block\n",
    "# if you experience ConnectionRefused errors, you may instead \n",
    "# copy the urls into your browser, save the files as DJI.csv \n",
    "# and COVID.csv respectively in the same directory as the notebook.\n",
    "# Then, in the lines using the function pd.read_csv(), replace \n",
    "# the url with \"DJI.csv\" and \"COVID.csv\" \n",
    "\n",
    "import pandas as pd\n",
    "import datetime\n",
    "\n",
    "url = \"https://query1.finance.yahoo.com/v7/finance/download/%5EDJI?period1=1580750232&period2=1712372632&interval=1d&events=history&includeAdjustedClose=true\"\n",
    "DJI = pd.read_csv(url)\n",
    "DJI['date'] = pd.to_datetime(DJI['Date'])\n",
    "DJI = DJI.drop([\"Date\"], axis = 1)\n",
    "\n",
    "url = \"https://raw.githubusercontent.com/nytimes/covid-19-data/master/us.csv\"\n",
    "COVID = pd.read_csv(url)\n",
    "COVID['date'] = pd.to_datetime(COVID['date'])"
   ]
  },
  {
   "cell_type": "markdown",
   "metadata": {},
   "source": [
    "## Part A\n",
    "\n",
    "The series `COVID['cases']` is essentially a `numpy` array containing the cumulative case counts over time. The COVID19 case data  is cumulative, but we would like to see the number of new cases per day (i.e. as in [this kind of plot](https://www.google.com/search?q=covid+stats)). Check the documentation for the `np.diff` function and figure out what it does. Use it appropriately to construct a new array, called `per_day`, giving the number of new cases per day. Then, make a new array called `per_day_date` that gives the appropriate date for each case count. In particular, you will need to ensure that `per_day` and `per_day_date` have the same shape. "
   ]
  },
  {
   "cell_type": "code",
   "execution_count": null,
   "metadata": {},
   "outputs": [],
   "source": [
    "# your solution here\n"
   ]
  },
  {
   "cell_type": "markdown",
   "metadata": {},
   "source": [
    "## Part B\n",
    "\n",
    "Create a figure with two very wide axes, one on top of the other (i.e. two rows, one column). Use the `sharex` argument of `plt.subplots()` to ensure that these two plots will share the same horizontal axis. \n",
    "\n",
    "Then: \n",
    "\n",
    "1. On the upper axis, plot the Dow Jones Industrial Average over time. For the horizontal axis use `DJI['date']`; the for the vertical use `DJI['Close']`. \n",
    "2. On the lower axis, plot the variables `per_day_date` and `per_day` to visualize the progress of the COVID19 pandemic over time. Use a different color for the trendline. \n",
    "\n",
    "Give your plot horizontal and vertical axis labels. "
   ]
  },
  {
   "cell_type": "code",
   "execution_count": null,
   "metadata": {},
   "outputs": [],
   "source": [
    "# your solution here\n",
    "# modify this block in the remaining parts of the problem \n"
   ]
  },
  {
   "cell_type": "markdown",
   "metadata": {},
   "source": [
    "## Part C\n",
    "\n",
    "The command \n",
    "\n",
    "```\n",
    "ax[0].axvspan(datetime.datetime(2020,6,1),\n",
    "              datetime.datetime(2020,6,30), \n",
    "              alpha = .3, \n",
    "              color = \"gray\")\n",
    "```\n",
    "\n",
    "will add a simple rectangular shade which can be used to highlight specific portions of a time-series. In the given code, this shade runs through the month of June 2020. Add at least two such rectangular shades to your figure corresponding to important time intervals. You can put two shades on one axis, or one on each. If you're not sure what time periods are important, just choose intervals at random. Feel free to modify the color and transparency as desired. You can modify your figure code from Part B -- no need for copy/paste. \n",
    "\n",
    "## Part D\n",
    "\n",
    "The command \n",
    "\n",
    "```\n",
    "ax[0].text(datetime.datetime(2020,9,15), \n",
    "           22000, \n",
    "           \"penguins?\\npenguins!\")\n",
    "```\n",
    "\n",
    "will add a fun text annotation to your plot, with the first letter in horizontal position corresponding to September 15th, and at vertical position 22,000. Annotate each of your shaded regions with a few words describing their significance. Again, just modify your Part B code. \n",
    "\n",
    "## Part E\n",
    "\n",
    "Add an overall title, spruce up your axis labels, and add anything else you think will make the plot look good. Again, you can just modify your Part B code, without copy/paste. \n",
    "\n",
    "Then, submit a job application at www.FiveThirtyEight.com and show Nate Silver your cool data visualization.  "
   ]
  }
 ],
 "metadata": {
  "kernelspec": {
   "display_name": "Python 3",
   "language": "python",
   "name": "python3"
  },
  "language_info": {
   "codemirror_mode": {
    "name": "ipython",
    "version": 3
   },
   "file_extension": ".py",
   "mimetype": "text/x-python",
   "name": "python",
   "nbconvert_exporter": "python",
   "pygments_lexer": "ipython3",
   "version": "3.6.5"
  }
 },
 "nbformat": 4,
 "nbformat_minor": 4
}
